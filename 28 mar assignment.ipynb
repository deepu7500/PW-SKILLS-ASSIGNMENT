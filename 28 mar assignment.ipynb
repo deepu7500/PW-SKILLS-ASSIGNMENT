{
 "cells": [
  {
   "cell_type": "markdown",
   "id": "4703b7a0",
   "metadata": {},
   "source": [
    "# ans 1\n",
    "Ridge regression is a regularized linear regression technique that is used to prevent overfitting and improve the stability\n",
    "of the estimates. The basic idea behind ridge regression is to add a small bias term to the estimated coefficients,\n",
    "which shrinks them towards zero. \n",
    "\n",
    "the main differences between ridge regression and OLS is that ridge regression produces biased estimates of \n",
    "the coefficients, while OLS produces unbiased estimates. "
   ]
  },
  {
   "cell_type": "markdown",
   "id": "3c1c6a9a",
   "metadata": {},
   "source": [
    "# ans 2->\n",
    "assumption in ridge regression are-\n",
    "1.Linearity- it assume linear relation between variables.\n",
    "2.Idependence- the observation in dataset should be independent of each other\n",
    "so there is no systematic relation b/w predictor and actual variables.\n",
    "3.No Multicollinearty- ridge regression assumes that independent variable are not highly correlated.\n"
   ]
  },
  {
   "cell_type": "markdown",
   "id": "ded70f79",
   "metadata": {},
   "source": [
    "# ans 3->\n",
    "Lambda  in ridge regression used to controls the amount of shrinkage.\n",
    "Selecting an appropriate value of lambda is important to ensure that the model achieves a good balance\n",
    "between bias and variance. "
   ]
  },
  {
   "cell_type": "markdown",
   "id": "7ce98993",
   "metadata": {},
   "source": [
    "# ans 4->\n",
    "yes ridge regression is used for festure selection by utilizing its property of \n",
    "shrinking the regresssion coefficients towards zero."
   ]
  },
  {
   "cell_type": "markdown",
   "id": "5f9854c0",
   "metadata": {},
   "source": [
    "# ans 5->\n",
    "In the presence of mutlicollinearty  the data is not highly \n",
    "correlatedlp to stablize and reduce the senstivity to small cahnges in data."
   ]
  },
  {
   "cell_type": "markdown",
   "id": "f8fdc4a5",
   "metadata": {},
   "source": [
    "# ans 6->\n",
    "ridge regression can handle both as it used to handle independent variable\n",
    " it can also extended to use categorical variable by using OHE(one hot encoding)\n",
    "    technique or dummy variable."
   ]
  },
  {
   "cell_type": "markdown",
   "id": "06f7ae12",
   "metadata": {},
   "source": [
    "# ans 7->\n",
    "The coefficients of Ridge Regression can be interpreted in a similar way to those of ordinary linear regression. \n",
    "In Ridge Regression, the coefficients represent the estimated change in the dependent variable for a one-unit\n",
    "increase in the corresponding independent variable, holding all other variables constant.\n"
   ]
  },
  {
   "cell_type": "markdown",
   "id": "fae5c0c4",
   "metadata": {},
   "source": [
    "# ans 8->\n",
    "In a time-series analysis, the goal is often to predict future values of a dependent variable based on its past values \n",
    "and other relevant features. Ridge Regression can be used to create a model that captures the relationship between \n",
    "the past values of the dependent variable and the other relevant features, while also reducing the impact of \n",
    "multicollinearity and overfitting."
   ]
  },
  {
   "cell_type": "code",
   "execution_count": null,
   "id": "76ff4265",
   "metadata": {},
   "outputs": [],
   "source": []
  }
 ],
 "metadata": {
  "kernelspec": {
   "display_name": "Python 3 (ipykernel)",
   "language": "python",
   "name": "python3"
  },
  "language_info": {
   "codemirror_mode": {
    "name": "ipython",
    "version": 3
   },
   "file_extension": ".py",
   "mimetype": "text/x-python",
   "name": "python",
   "nbconvert_exporter": "python",
   "pygments_lexer": "ipython3",
   "version": "3.9.13"
  }
 },
 "nbformat": 4,
 "nbformat_minor": 5
}
