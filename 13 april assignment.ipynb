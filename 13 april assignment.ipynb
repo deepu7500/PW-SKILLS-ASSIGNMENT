{
 "cells": [
  {
   "cell_type": "markdown",
   "id": "4d43a5a1",
   "metadata": {},
   "source": [
    "# ans 1-\n",
    "Random forest regression is a supervised learning algorithm and bagging technique that uses an ensemble learning method for regression in machine learning. The trees in random forests run in parallel, meaning there is no interaction between these trees while building the trees.\n"
   ]
  },
  {
   "cell_type": "markdown",
   "id": "a23894cb",
   "metadata": {},
   "source": [
    "# ans 2-\n",
    "Random forests deals with the problem of overfitting by creating multiple trees, with each tree trained slightly differently so it overfits differently. Random forests is a classifier that combines a large number of decision trees. The decisions of each tree are then combined to make the final classification.\n"
   ]
  },
  {
   "cell_type": "markdown",
   "id": "6c9d44b3",
   "metadata": {},
   "source": [
    "# ans 3-\n",
    "It leverages an ensemble of multiple decision trees to generate predictions or classifications. By combining the outputs of these trees, the random forest algorithm delivers a consolidated and more accurate result.\n"
   ]
  },
  {
   "cell_type": "markdown",
   "id": "dd0d213e",
   "metadata": {},
   "source": [
    "# ans-4\n",
    "The hyperparameters of the Random Forest Regressor are -\n",
    "* n_estimator\n",
    "* critera\n",
    "* max_depth\n",
    "* sample_spilt\n",
    "* bootstrap\n"
   ]
  },
  {
   "cell_type": "markdown",
   "id": "08951131",
   "metadata": {},
   "source": [
    "# ans 5-\n",
    "difference are-\n",
    "\n",
    "random forest\n",
    "* it prevent overfitting \n",
    "* handle large datasets.\n",
    "* provide generlization and robustness\n",
    "\n",
    "decision tree\n",
    "* suffer from problem of overfitting\n",
    "* it handle smaller datset compared tp random forest\n",
    "* can capture non-linear relationship in the data."
   ]
  },
  {
   "cell_type": "markdown",
   "id": "014e2bf6",
   "metadata": {},
   "source": [
    "# ans 6-\n",
    "A Random Forest Regressor is an ensemble learning method that builds multiple Decision Trees and combines their predictions to produce a more robust and accurate result.\n",
    "\n",
    "Pros of Random Forest Regressor:\n",
    "\n",
    "* Reduces overfitting compared to a single Decision Tree by averaging out individual tree predictions.\n",
    "* Provides better generalization and robustness.\n",
    "* Handles high-dimensional data and noisy data well.\n",
    "* Can capture complex relationships in the data.\n",
    "\n",
    "Cons of Random Forest Regressor:\n",
    "* More complex than a single Decision Tree, making it harder to visualize and interpret.\n",
    "* Can be computationally expensive, especially with a large number of trees and features.\n",
    "* May not perform as well on small datasets.\n"
   ]
  },
  {
   "cell_type": "markdown",
   "id": "79a610c9",
   "metadata": {},
   "source": [
    "# ans 7-\n",
    "the output of a Random Forest Regressor is a prediction of the target variable for each input data point in the dataset. In the context of regression tasks, the target variable is continuous and numerical. The Random Forest Regressor works by combining the predictions of multiple individual decision trees to generate a more accurate and robust prediction."
   ]
  },
  {
   "cell_type": "markdown",
   "id": "bef731b5",
   "metadata": {},
   "source": [
    "# ans 8-\n",
    "Yes, the Random Forest algorithm can be used for classification tasks.\n",
    "Random Forest Classifiers are popular due to their ability to handle complex decision boundaries, reduce overfitting, and handle noisy data. They're known for providing good generalization and robustness, making them widely used in machine learning applications.\n"
   ]
  },
  {
   "cell_type": "code",
   "execution_count": null,
   "id": "2492e50f",
   "metadata": {},
   "outputs": [],
   "source": []
  }
 ],
 "metadata": {
  "kernelspec": {
   "display_name": "Python 3 (ipykernel)",
   "language": "python",
   "name": "python3"
  },
  "language_info": {
   "codemirror_mode": {
    "name": "ipython",
    "version": 3
   },
   "file_extension": ".py",
   "mimetype": "text/x-python",
   "name": "python",
   "nbconvert_exporter": "python",
   "pygments_lexer": "ipython3",
   "version": "3.9.13"
  }
 },
 "nbformat": 4,
 "nbformat_minor": 5
}
