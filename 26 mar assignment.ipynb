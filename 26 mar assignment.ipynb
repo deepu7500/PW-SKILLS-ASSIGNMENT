{
 "cells": [
  {
   "cell_type": "markdown",
   "id": "3ad32852",
   "metadata": {},
   "source": [
    "# ans 1-> \n",
    "Simple linear regression involves modeling the relationship between two variables - \n",
    "a dependent variable and a single independent variable.\n",
    "for example-\n",
    "predicting the class performance based on the result of all students of class.\n",
    "\n",
    "Multiple linear regression, on the other hand, involves modeling the relationship between\n",
    "a dependent variable and two or more independent variables.\n",
    "for example-\n",
    "predicting the percentage based on marks of all subjects."
   ]
  },
  {
   "cell_type": "markdown",
   "id": "8f3c367a",
   "metadata": {},
   "source": [
    "# ans 2-> \n",
    "assumption of linear regression\n",
    "* linear relation between dependent variables and independent variable .it can be positive or negative relation.\n",
    "using graph or plot we can check out whether the graph is linear or not \n",
    "* no  multicolinearty - multicolinearity means corelation there should be no coorelation between the variables of dataset because it effect the predicion.\n",
    "finding correlation and then plot using heatmap help to check out the multicolinearity\n",
    "* normality in errors- errors should be normaly distributed\n",
    "* homooscedasticity-it is define as having the continous scatter of errors.\n",
    "using scatter plot we can check out the homoscedasticity.\n",
    "* no autocorrelation - variables or error should not follow any pattern."
   ]
  },
  {
   "cell_type": "markdown",
   "id": "e1207efd",
   "metadata": {},
   "source": [
    "# ans 3->\n",
    "In a linear regression model, the slope represents the change in the response variable (dependent variable)\n",
    "for every one-unit change in the predictor variable (independent variable). The intercept represents the value\n",
    "of the response variable when the predictor variable is equal to zero\n",
    "For example, lets say we want to predict the salary of employees based on their years of experience. "
   ]
  },
  {
   "cell_type": "markdown",
   "id": "971d430f",
   "metadata": {},
   "source": [
    "# ans 4->\n",
    "Gradient descent is an optimization algorithm used in machine learning to minimize the cost or loss function of a model.\n",
    "The goal of the algorithm is to find the set of parameters or coefficients that provide the best fit to the training data."
   ]
  },
  {
   "cell_type": "markdown",
   "id": "6c4b73a6",
   "metadata": {},
   "source": [
    "# ans 5->\n",
    "Multiple linear regression is a statistical technique used to predict the relationship between a dependent variable and two or\n",
    "more independent variables. \n",
    "* multiple regression is differ from simple linear regression as simple linear regression have only one independent variable but\n",
    "* multiple regression have more than one independent variable.\n",
    "* multiple regression needs more data to interpret than simple regression.\n",
    "* multiple regression help in finding relation between complex data and it is more difficult as compare to simle linear\n",
    "regression."
   ]
  },
  {
   "cell_type": "code",
   "execution_count": 1,
   "id": "b9e4bc28",
   "metadata": {},
   "outputs": [
    {
     "ename": "SyntaxError",
     "evalue": "invalid syntax (2998496101.py, line 2)",
     "output_type": "error",
     "traceback": [
      "\u001b[1;36m  File \u001b[1;32m\"C:\\Users\\User\\AppData\\Local\\Temp\\ipykernel_13304\\2998496101.py\"\u001b[1;36m, line \u001b[1;32m2\u001b[0m\n\u001b[1;33m    multicollinearity occur in multiple linear regression when two or more independent variable are correlated.\u001b[0m\n\u001b[1;37m                      ^\u001b[0m\n\u001b[1;31mSyntaxError\u001b[0m\u001b[1;31m:\u001b[0m invalid syntax\n"
     ]
    }
   ],
   "source": [
    "# ans 6->\n",
    "multicollinearity occur in multiple linear regression when two or more independent variable are correlated.\n",
    "to detect   multicolinearty we use some methods -\n",
    "* we can compute the correlation matrix between the independent variables.\n",
    "* we use scatter plot to detect \n",
    "* variance inflation factor(VIF)\n",
    "we can address the issue from following ways-\n",
    "* increase more data\n",
    "* remove one of correlated feature \n",
    "* lasso/ridge regression - it shrink the non -importanat coefficient.\n",
    "* Principle componenet regression-it give unrelated predictors in result."
   ]
  },
  {
   "cell_type": "markdown",
   "id": "4050b1af",
   "metadata": {},
   "source": [
    "# ans 7->\n",
    "The polynomial regression model is a type of regression analysis in which the relationship between the independent variable x\n",
    "and the dependent variable y is modeled as an nth-degree polynomial.\n",
    "\n",
    "The key difference between polynomial regression and linear regression is that polynomial regression can model non-linear \n",
    "relationships between x and y, while linear regression can only model linear relationships.\n",
    "Polynomial regression can be useful in situations where the relationship between x and y is not a straight line, but rather a\n",
    "curve or a wave-like pattern. polynomial regression can also lead to overfitting, especially when the degree of the\n",
    "polynomial is high. "
   ]
  },
  {
   "cell_type": "markdown",
   "id": "152d71a8",
   "metadata": {},
   "source": [
    "# ans 8->\n",
    "# avantages\n",
    "* the polynomial regression is flexible enough to get fitted in a vast range of curvatures.\n",
    "* A broad range of functions can easily fit under it.\n",
    "* The polynomial regression offers the best approximation of the relationship between the two dependent and independent variables.\n",
    "# disadvantage\n",
    "* The presence of one or two outliers in the data can seriously affect the results of the nonlinear analysis.\n",
    "* These are too sensitive to the outliers.\n",
    "* In addition, there are unfortunately fewer model validation tools for the detection of outliers in nonlinear regression than there are for linear regression.\n",
    "\n",
    "some of the following situations where polynomial regression is used are-\n",
    "* when the relationship between the dependent and independent  data is non-linear.\n",
    "* for small dataset polynomial regression is used."
   ]
  },
  {
   "cell_type": "code",
   "execution_count": null,
   "id": "696d7eeb",
   "metadata": {},
   "outputs": [],
   "source": []
  }
 ],
 "metadata": {
  "kernelspec": {
   "display_name": "Python 3 (ipykernel)",
   "language": "python",
   "name": "python3"
  },
  "language_info": {
   "codemirror_mode": {
    "name": "ipython",
    "version": 3
   },
   "file_extension": ".py",
   "mimetype": "text/x-python",
   "name": "python",
   "nbconvert_exporter": "python",
   "pygments_lexer": "ipython3",
   "version": "3.9.13"
  }
 },
 "nbformat": 4,
 "nbformat_minor": 5
}
