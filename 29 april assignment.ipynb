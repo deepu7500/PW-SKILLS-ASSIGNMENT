{
 "cells": [
  {
   "cell_type": "markdown",
   "id": "42f640f9",
   "metadata": {},
   "source": [
    "# ans 1\n",
    "Clustering is a fundamental concept in data analysis and machine learning that involves grouping similar data points together based on certain characteristics or features. The goal of clustering is to discover patterns, structures, or relationships within a dataset without explicit labels or predefined categories. In other words, it aims to find natural groupings within the data.\n",
    "The basic concept of clustering involves partitioning a dataset into subsets, called clusters.\n",
    "\n",
    "examples of applications where clustering is useful-\n",
    "* image segmentation\n",
    "* anomaly detection\n",
    "* social network\n",
    "* market detection\n",
    "* geomatric data analysis"
   ]
  },
  {
   "cell_type": "markdown",
   "id": "a3526de1",
   "metadata": {},
   "source": [
    "# ans 2-\n",
    "DBSCAN, which stands for Density-Based Spatial Clustering of Applications with Noise, is a clustering algorithm that operates based on the density of data points in a dataset. \n",
    "\n",
    "Like K-Means and Hierarchical Clustering, DBSCAN does not require the number of clusters to be specified beforehand and can discover clusters of arbitrary shapes. Here's how DBSCAN differs from other clustering algorithms-\n"
   ]
  },
  {
   "cell_type": "markdown",
   "id": "59664b6f",
   "metadata": {},
   "source": [
    "# ans 3-\n",
    "Determining the optimal values for the epsilon (ε) and minimum points  parameters in DBSCAN clustering is crucial to obtaining meaningful and accurate clusters. These parameters control the density and size of clusters.\n",
    "\n",
    "Elbow methode is used to determine the optimal value and minimum points parameter in dbscan.\n"
   ]
  },
  {
   "cell_type": "markdown",
   "id": "86f26fb5",
   "metadata": {},
   "source": [
    "# ans 4-\n",
    "\n",
    "DBSCAN is a clustering algorithm that handles outliers in a unique way compared to other clustering methods. It distinguishes between core points, border points, and noise points based on their density within a specified radius. This approach makes DBSCAN robust to noise and capable of effectively identifying and dealing with outliers in a dataset\n",
    "\n",
    "DBSCAN handles outliers by designating them as noise points when they do not meet the density criteria to be considered core or border points. it can focus on discovering meaningful clusters while ignoring isolated or low-density data points.\n",
    "\n"
   ]
  },
  {
   "cell_type": "markdown",
   "id": "e8cdf088",
   "metadata": {},
   "source": [
    "# ans 5-\n",
    "K-means needs a prototype-based concept of a cluster. DBSCAN needs a density-based concept. K-means has difficulty with non-globular clusters and clusters of multiple sizes. DBSCAN is used to handle clusters of multiple sizes and structures and is not powerfully influenced by noise or outliers.\n",
    "DBSCAN is more suitable when the number of clusters is not known beforehand. K-Means and it works well when clusters are roughly spherical and the number of clusters is known or estimated."
   ]
  },
  {
   "cell_type": "markdown",
   "id": "74085c85",
   "metadata": {},
   "source": [
    "# ans 6-\n",
    "yes dbscan can be applied to high dimensional dataset.\n",
    "\n",
    "while DBSCAN can be applied to high-dimensional data, there are challenges related to the curse of dimensionality, distance metrics, parameter selection, and interpreting results. Careful consideration of these challenges, along with appropriate preprocessing techniques and parameter tuning, is necessary to successfully apply DBSCAN to datasets with high-dimensional feature spaces."
   ]
  },
  {
   "cell_type": "markdown",
   "id": "f8289b6b",
   "metadata": {},
   "source": [
    "# ans 7-\n",
    "DBSCAN handles clusters with varying densities by identifying core points in high-density regions and considering border points as part of the clusters. This density-based approach allows DBSCAN to naturally adapt to clusters of different shapes and sizes, making it a powerful choice for datasets with complex density distributions. The choice of ε and minPts parameters influences the sensitivity of DBSCAN to varying densities and should be carefully tuned based on the characteristics of the data.\n"
   ]
  },
  {
   "cell_type": "markdown",
   "id": "d5fcdf25",
   "metadata": {},
   "source": [
    "# ans 8-\n",
    "Commom evaluation metrics can be used to measure the quality of the clustering output-\n",
    "* wcss (within- cluster sum of squares)\n",
    "* silhouette score \n",
    "*  normalized mutual information(nmi)\n",
    "* adjusted rand index"
   ]
  },
  {
   "cell_type": "markdown",
   "id": "fc3e26b6",
   "metadata": {},
   "source": [
    "# ans 9-\n",
    "DBSCAN is primarily designed for unsupervised clustering tasks, where it discovers patterns and structures within unlabeled data. However, it is not typically used directly for semi-supervised learning tasks, which involve combining labeled and unlabeled data to improve predictive models.\n"
   ]
  },
  {
   "cell_type": "markdown",
   "id": "c6807170",
   "metadata": {},
   "source": [
    "# ans 10-\n",
    "DBSCAN handles datasets with noise or missing values by using noise handling,impact on clustering or data processing.\n"
   ]
  },
  {
   "cell_type": "markdown",
   "id": "81e34815",
   "metadata": {},
   "source": [
    "# ans 11-\n"
   ]
  },
  {
   "cell_type": "code",
   "execution_count": 1,
   "id": "7d8290e8",
   "metadata": {},
   "outputs": [],
   "source": [
    "from sklearn.cluster import DBSCAN\n",
    "from sklearn.datasets import make_moons\n",
    "import matplotlib.pyplot as plt\n",
    "%matplotlib inline"
   ]
  },
  {
   "cell_type": "code",
   "execution_count": 2,
   "id": "c2993c6f",
   "metadata": {},
   "outputs": [],
   "source": [
    "x,y=make_moons(n_samples=300,noise=0.02)"
   ]
  },
  {
   "cell_type": "code",
   "execution_count": 3,
   "id": "1d7a7059",
   "metadata": {},
   "outputs": [
    {
     "data": {
      "text/plain": [
       "array([[-0.64714659,  0.79041316],\n",
       "       [ 0.40409592,  0.88446646],\n",
       "       [ 0.59205491,  0.77423729],\n",
       "       [ 0.30245905,  0.96102916],\n",
       "       [ 1.82108403, -0.04472052],\n",
       "       [ 0.25075804,  0.94407368],\n",
       "       [ 0.88478485, -0.47958954],\n",
       "       [ 1.44852537, -0.38367351],\n",
       "       [ 1.87613642,  0.03326761],\n",
       "       [ 1.36837075, -0.42198434],\n",
       "       [-1.00190805,  0.20735309],\n",
       "       [ 0.70819601, -0.47829665],\n",
       "       [ 0.39547747,  0.91349331],\n",
       "       [ 0.97862838, -0.51808901],\n",
       "       [ 0.58625122, -0.40308961],\n",
       "       [-0.75493796,  0.63693252],\n",
       "       [ 0.58467493, -0.41019509],\n",
       "       [ 2.02913271,  0.46918416],\n",
       "       [ 0.8170851 , -0.4608771 ],\n",
       "       [ 0.40440409, -0.34270833],\n",
       "       [ 0.70725865,  0.71099941],\n",
       "       [ 0.23977192,  0.99077636],\n",
       "       [-1.00581101,  0.15279477],\n",
       "       [ 0.8896734 ,  0.41722724],\n",
       "       [ 0.96242911,  0.16631324],\n",
       "       [ 0.75537329, -0.45618352],\n",
       "       [ 0.49642732,  0.87097898],\n",
       "       [ 0.59232437,  0.77128404],\n",
       "       [ 0.16711993, -0.0728249 ],\n",
       "       [-0.4914726 ,  0.88098426],\n",
       "       [ 1.99242705,  0.35659037],\n",
       "       [ 1.80694411, -0.10217812],\n",
       "       [ 1.50210167, -0.34937047],\n",
       "       [ 1.00751901,  0.06579753],\n",
       "       [ 0.47994849, -0.32645781],\n",
       "       [ 0.5188989 , -0.37041225],\n",
       "       [-0.84349287,  0.57553546],\n",
       "       [ 0.22234445, -0.12456116],\n",
       "       [ 0.02928785,  0.25693557],\n",
       "       [-0.12229992,  0.97620604],\n",
       "       [ 0.98518451,  0.1245303 ],\n",
       "       [-0.98540116,  0.18701933],\n",
       "       [ 0.6160337 , -0.40354945],\n",
       "       [-0.97977549,  0.09049758],\n",
       "       [ 1.37888804, -0.41510814],\n",
       "       [-0.53975553,  0.78571621],\n",
       "       [ 0.53292161, -0.42431352],\n",
       "       [ 2.00660975,  0.42945494],\n",
       "       [ 0.33576724, -0.23568325],\n",
       "       [ 1.69785874, -0.16823121],\n",
       "       [ 0.07029656,  0.16859641],\n",
       "       [ 0.16171482, -0.04504023],\n",
       "       [ 0.04297702,  0.39786884],\n",
       "       [ 1.8995741 , -0.0178748 ],\n",
       "       [-0.98150481,  0.0781269 ],\n",
       "       [-0.30152819,  0.95372331],\n",
       "       [ 0.34783174, -0.28894681],\n",
       "       [ 0.28929426, -0.19271224],\n",
       "       [ 0.35453393,  0.93434942],\n",
       "       [-0.02863362,  0.472848  ],\n",
       "       [ 1.25438358, -0.50490972],\n",
       "       [-0.91899895,  0.4856848 ],\n",
       "       [-1.01756752,  0.02776729],\n",
       "       [ 1.99218876,  0.38574316],\n",
       "       [ 1.91884435,  0.23365991],\n",
       "       [-0.3849979 ,  0.9070058 ],\n",
       "       [ 1.99175214,  0.47956035],\n",
       "       [ 1.2368354 , -0.48415382],\n",
       "       [ 1.93602723,  0.28612132],\n",
       "       [-0.56267413,  0.80109221],\n",
       "       [ 1.59044692, -0.26980757],\n",
       "       [-0.11372239,  0.98872492],\n",
       "       [ 0.85858612,  0.50707123],\n",
       "       [-0.6501098 ,  0.67966733],\n",
       "       [-0.29435881,  0.98532486],\n",
       "       [ 1.98672925,  0.45655391],\n",
       "       [ 0.83223175,  0.60192735],\n",
       "       [-0.4382687 ,  0.91149265],\n",
       "       [ 0.95015753,  0.33759713],\n",
       "       [ 1.22718199, -0.42207713],\n",
       "       [ 1.89148281,  0.12385191],\n",
       "       [-0.41094503,  0.93002771],\n",
       "       [-0.92179145,  0.33148946],\n",
       "       [ 0.02790575,  0.20540879],\n",
       "       [-0.56899738,  0.84143204],\n",
       "       [ 0.15757136,  0.99615957],\n",
       "       [ 0.58628108,  0.81888523],\n",
       "       [ 0.35965636, -0.30840299],\n",
       "       [ 1.16835083, -0.53501601],\n",
       "       [ 0.70118385, -0.45463833],\n",
       "       [ 0.11373596,  1.00016186],\n",
       "       [-0.95348921,  0.30940823],\n",
       "       [ 1.94833081,  0.21629298],\n",
       "       [ 0.04057054,  0.99114251],\n",
       "       [-0.64339855,  0.78549164],\n",
       "       [ 0.25977432,  0.91908853],\n",
       "       [ 0.58407879,  0.81313346],\n",
       "       [ 0.10312123, -0.00589859],\n",
       "       [ 1.92272685,  0.23433813],\n",
       "       [-0.67348585,  0.73324663],\n",
       "       [ 0.2928954 ,  0.94871057],\n",
       "       [ 1.45654434, -0.38873971],\n",
       "       [ 0.90365668, -0.46119647],\n",
       "       [-0.00239459,  1.0011485 ],\n",
       "       [ 0.85831827,  0.46692717],\n",
       "       [ 1.85555923, -0.01206748],\n",
       "       [ 1.19311997, -0.51449678],\n",
       "       [ 1.99103606,  0.29544612],\n",
       "       [ 1.30442705, -0.46414735],\n",
       "       [ 0.01593823,  0.41991627],\n",
       "       [-0.85502848,  0.54379662],\n",
       "       [ 0.026183  ,  0.9923797 ],\n",
       "       [ 1.56991418, -0.34175723],\n",
       "       [ 0.7185199 ,  0.78391741],\n",
       "       [-0.01758386,  0.34754694],\n",
       "       [-0.75329302,  0.67092938],\n",
       "       [-0.30234362,  0.93987821],\n",
       "       [ 0.38678108, -0.31064905],\n",
       "       [ 0.98128756,  0.22967984],\n",
       "       [ 0.0795067 ,  0.12223012],\n",
       "       [ 1.72618656, -0.2031709 ],\n",
       "       [-0.86552398,  0.5072472 ],\n",
       "       [ 1.05028818, -0.53236908],\n",
       "       [ 0.19140305, -0.10766237],\n",
       "       [ 0.18523383,  0.9833219 ],\n",
       "       [ 0.65177825, -0.48711945],\n",
       "       [ 0.09842145,  0.08602053],\n",
       "       [-0.82699509,  0.53026983],\n",
       "       [ 0.09545707,  0.04351335],\n",
       "       [ 1.12578486, -0.51716686],\n",
       "       [-0.92244301,  0.27942198],\n",
       "       [ 0.50868409,  0.86273948],\n",
       "       [ 1.0248606 ,  0.04121446],\n",
       "       [ 1.47504577, -0.35490304],\n",
       "       [ 0.93806047, -0.45740559],\n",
       "       [ 0.07638495,  1.02705649],\n",
       "       [ 1.85271847,  0.07938495],\n",
       "       [ 1.97996872,  0.3279754 ],\n",
       "       [ 1.97227239,  0.38764324],\n",
       "       [ 0.63253491,  0.77306235],\n",
       "       [ 1.82530643, -0.01030341],\n",
       "       [-0.07886137,  0.98990427],\n",
       "       [ 0.60097803, -0.37396752],\n",
       "       [-0.48720247,  0.84973852],\n",
       "       [ 0.01573556,  0.22312036],\n",
       "       [ 0.89768509, -0.50333806],\n",
       "       [ 0.84748275,  0.60944282],\n",
       "       [ 0.42611101,  0.89275196],\n",
       "       [ 0.85511836,  0.43975399],\n",
       "       [ 0.0355041 ,  0.29786852],\n",
       "       [ 1.78491267, -0.08721081],\n",
       "       [ 0.54813642, -0.37006166],\n",
       "       [ 0.75572486,  0.6298859 ],\n",
       "       [ 0.30929071, -0.22669288],\n",
       "       [ 0.15532992,  0.00526763],\n",
       "       [ 0.086703  ,  0.11983437],\n",
       "       [ 0.81937372,  0.62135914],\n",
       "       [ 0.81204662, -0.49301052],\n",
       "       [ 0.8220113 ,  0.54607824],\n",
       "       [ 0.71284803,  0.65588702],\n",
       "       [-0.72280885,  0.66865382],\n",
       "       [-0.00388489,  0.47792201],\n",
       "       [-0.13434722,  0.96721283],\n",
       "       [-0.50234349,  0.88970189],\n",
       "       [ 0.36863313, -0.26121494],\n",
       "       [ 0.68759986,  0.72226065],\n",
       "       [ 0.43466318, -0.33480583],\n",
       "       [ 1.00201967,  0.04324654],\n",
       "       [-0.03106681,  0.48056819],\n",
       "       [ 1.80638706, -0.04617268],\n",
       "       [ 1.59404166, -0.30114399],\n",
       "       [ 1.92198972,  0.20122848],\n",
       "       [ 1.9273702 ,  0.10902382],\n",
       "       [-0.33126274,  0.95223641],\n",
       "       [ 0.19153396, -0.0735867 ],\n",
       "       [ 0.32288147, -0.22915775],\n",
       "       [ 0.44343839,  0.88915013],\n",
       "       [ 1.66922684, -0.2626045 ],\n",
       "       [ 0.46451823,  0.85328847],\n",
       "       [ 0.42874919,  0.90587023],\n",
       "       [ 0.04879085,  0.18098817],\n",
       "       [ 1.30126246, -0.45528961],\n",
       "       [ 0.58164421,  0.84745772],\n",
       "       [ 0.01018927,  0.37165351],\n",
       "       [ 0.66510791,  0.73619625],\n",
       "       [ 0.10531644,  0.97404468],\n",
       "       [ 0.81081861, -0.44724359],\n",
       "       [ 0.99616256, -0.50115608],\n",
       "       [-0.77764934,  0.61995296],\n",
       "       [ 1.93197933,  0.25900135],\n",
       "       [-0.25266325,  0.95247429],\n",
       "       [ 1.38776667, -0.44708586],\n",
       "       [-0.17491337,  0.95831711],\n",
       "       [ 0.79682439,  0.55812904],\n",
       "       [ 0.89175848,  0.45996246],\n",
       "       [-0.91339367,  0.44236066],\n",
       "       [ 1.15915713, -0.51017743],\n",
       "       [-0.82985983,  0.52092522],\n",
       "       [ 1.9496037 ,  0.16593946],\n",
       "       [-0.89344173,  0.46601733],\n",
       "       [-0.96700004,  0.19255061],\n",
       "       [-0.36019263,  0.93469985],\n",
       "       [ 1.91560129,  0.10385134],\n",
       "       [-0.25357199,  0.98978988],\n",
       "       [-0.99421414,  0.08231436],\n",
       "       [ 1.99756105,  0.37231119],\n",
       "       [-0.62239618,  0.76310704],\n",
       "       [ 1.51505868, -0.35963498],\n",
       "       [ 1.53255235, -0.35428079],\n",
       "       [ 1.27480164, -0.44820018],\n",
       "       [ 0.97897398,  0.17606651],\n",
       "       [ 0.22881999, -0.15067274],\n",
       "       [-0.19915615,  0.96342285],\n",
       "       [ 0.03429244,  0.31028318],\n",
       "       [ 0.96243981,  0.28842495],\n",
       "       [ 1.0814438 , -0.48695839],\n",
       "       [ 0.17076559, -0.04354649],\n",
       "       [ 0.94530603, -0.50795136],\n",
       "       [-0.65848705,  0.74027083],\n",
       "       [-0.24942915,  1.00681129],\n",
       "       [ 1.60910554, -0.323517  ],\n",
       "       [-0.71134089,  0.7102012 ],\n",
       "       [ 0.93927864,  0.39896927],\n",
       "       [ 0.86438595, -0.52160891],\n",
       "       [-1.02282627, -0.03088865],\n",
       "       [ 0.65254352,  0.77689467],\n",
       "       [ 1.7419329 , -0.1365331 ],\n",
       "       [-0.05362999,  1.0279406 ],\n",
       "       [ 0.48911425, -0.35465924],\n",
       "       [ 0.98215269,  0.20470958],\n",
       "       [ 1.97914533,  0.31613388],\n",
       "       [ 0.24870328, -0.17222197],\n",
       "       [ 1.10265572, -0.48182622],\n",
       "       [ 1.06192066, -0.49843857],\n",
       "       [-0.92093808,  0.43527852],\n",
       "       [ 0.96376891, -0.49448627],\n",
       "       [-0.88250656,  0.35922817],\n",
       "       [-0.99433925,  0.17752761],\n",
       "       [ 0.23352851, -0.16921654],\n",
       "       [-0.17844142,  1.00306733],\n",
       "       [ 1.00938073,  0.12983695],\n",
       "       [ 1.86836328,  0.05257836],\n",
       "       [ 1.01686895,  0.22143363],\n",
       "       [-0.96793742,  0.22416402],\n",
       "       [ 1.79487355, -0.0804356 ],\n",
       "       [ 1.67957577, -0.28473225],\n",
       "       [ 1.00847945,  0.02928335],\n",
       "       [-0.01754257,  0.41113872],\n",
       "       [ 0.99827559,  0.11741483],\n",
       "       [ 0.72739658, -0.45092985],\n",
       "       [-0.77253943,  0.63560555],\n",
       "       [ 0.19577035, -0.0887364 ],\n",
       "       [-0.41525185,  0.8997308 ],\n",
       "       [ 0.68562825, -0.4405994 ],\n",
       "       [-0.59339841,  0.77580986],\n",
       "       [ 0.00599804,  0.36364406],\n",
       "       [-0.52788822,  0.87256197],\n",
       "       [ 0.66871106,  0.72261823],\n",
       "       [-0.90413169,  0.38717279],\n",
       "       [ 0.94946475,  0.42179005],\n",
       "       [ 0.30459891,  0.92438013],\n",
       "       [-0.01706151,  0.26829843],\n",
       "       [-0.95749665,  0.18246601],\n",
       "       [-0.94727553,  0.34330589],\n",
       "       [ 0.94498007,  0.31915972],\n",
       "       [-0.70963762,  0.65203784],\n",
       "       [ 0.33181297, -0.20856046],\n",
       "       [-0.99970617,  0.04086184],\n",
       "       [ 0.9717397 , -0.03271365],\n",
       "       [-0.94033646,  0.38456136],\n",
       "       [ 0.96375664,  0.30435292],\n",
       "       [ 0.06403635,  0.9844342 ],\n",
       "       [ 1.84683676, -0.02856494],\n",
       "       [ 0.04639303,  0.12625117],\n",
       "       [ 0.34299767,  0.95935735],\n",
       "       [-0.97485552,  0.34363142],\n",
       "       [ 1.73637098, -0.11636446],\n",
       "       [ 0.76659904,  0.62344035],\n",
       "       [ 1.69866098, -0.22753184],\n",
       "       [-0.79609908,  0.61335031],\n",
       "       [ 0.43368552, -0.34211155],\n",
       "       [ 1.63667283, -0.23396537],\n",
       "       [ 1.32199102, -0.42727478],\n",
       "       [ 1.16971717, -0.49192008],\n",
       "       [ 0.87345783,  0.51912637],\n",
       "       [ 0.11206164,  0.04484881],\n",
       "       [ 0.75745161, -0.48688393],\n",
       "       [ 0.81256748,  0.60344491],\n",
       "       [ 1.76430847, -0.16498083],\n",
       "       [ 0.09109053,  0.99341245],\n",
       "       [-0.45460033,  0.87957459],\n",
       "       [ 0.08541512,  0.08343097],\n",
       "       [ 1.36944562, -0.39031556],\n",
       "       [ 0.91803744,  0.37621199],\n",
       "       [ 0.95363597,  0.35759498],\n",
       "       [ 0.02648176,  1.00638361],\n",
       "       [ 1.69582828, -0.24220388],\n",
       "       [ 0.52707824,  0.8481656 ],\n",
       "       [ 0.19216432,  0.96388471],\n",
       "       [ 1.52592845, -0.35704226]])"
      ]
     },
     "execution_count": 3,
     "metadata": {},
     "output_type": "execute_result"
    }
   ],
   "source": [
    "x"
   ]
  },
  {
   "cell_type": "code",
   "execution_count": 4,
   "id": "73ee3003",
   "metadata": {},
   "outputs": [
    {
     "data": {
      "text/plain": [
       "<matplotlib.collections.PathCollection at 0x20dfc9da550>"
      ]
     },
     "execution_count": 4,
     "metadata": {},
     "output_type": "execute_result"
    },
    {
     "data": {
      "image/png": "[encoded data removed]",
      "text/plain": [
       "<Figure size 640x480 with 1 Axes>"
      ]
     },
     "metadata": {},
     "output_type": "display_data"
    }
   ],
   "source": [
    "plt.scatter(x[:,0],x[:,1])"
   ]
  },
  {
   "cell_type": "code",
   "execution_count": 5,
   "id": "4b3bd5b9",
   "metadata": {},
   "outputs": [],
   "source": [
    "from sklearn.preprocessing import StandardScaler\n",
    "scaler=StandardScaler()"
   ]
  },
  {
   "cell_type": "code",
   "execution_count": 6,
   "id": "19bec0d0",
   "metadata": {},
   "outputs": [],
   "source": [
    "x_scaled=scaler.fit_transform(x)"
   ]
  },
  {
   "cell_type": "code",
   "execution_count": 7,
   "id": "ea07e6b9",
   "metadata": {},
   "outputs": [],
   "source": [
    "from sklearn.cluster import DBSCAN"
   ]
  },
  {
   "cell_type": "code",
   "execution_count": 8,
   "id": "0fc6b308",
   "metadata": {},
   "outputs": [],
   "source": [
    "dbscan=DBSCAN(eps=0.5)"
   ]
  },
  {
   "cell_type": "code",
   "execution_count": 9,
   "id": "60e6679b",
   "metadata": {},
   "outputs": [
    {
     "data": {
      "text/plain": [
       "DBSCAN()"
      ]
     },
     "execution_count": 9,
     "metadata": {},
     "output_type": "execute_result"
    }
   ],
   "source": [
    "dbscan.fit(x_scaled)"
   ]
  },
  {
   "cell_type": "code",
   "execution_count": 10,
   "id": "d707c609",
   "metadata": {},
   "outputs": [
    {
     "data": {
      "text/plain": [
       "DBSCAN()"
      ]
     },
     "execution_count": 10,
     "metadata": {},
     "output_type": "execute_result"
    }
   ],
   "source": [
    "dbscan.fit(x_scaled)"
   ]
  },
  {
   "cell_type": "code",
   "execution_count": 11,
   "id": "d74617e0",
   "metadata": {},
   "outputs": [
    {
     "data": {
      "text/plain": [
       "array([0, 0, 0, 0, 1, 0, 1, 1, 1, 1, 0, 1, 0, 1, 1, 0, 1, 1, 1, 1, 0, 0,\n",
       "       0, 0, 0, 1, 0, 0, 1, 0, 1, 1, 1, 0, 1, 1, 0, 1, 1, 0, 0, 0, 1, 0,\n",
       "       1, 0, 1, 1, 1, 1, 1, 1, 1, 1, 0, 0, 1, 1, 0, 1, 1, 0, 0, 1, 1, 0,\n",
       "       1, 1, 1, 0, 1, 0, 0, 0, 0, 1, 0, 0, 0, 1, 1, 0, 0, 1, 0, 0, 0, 1,\n",
       "       1, 1, 0, 0, 1, 0, 0, 0, 0, 1, 1, 0, 0, 1, 1, 0, 0, 1, 1, 1, 1, 1,\n",
       "       0, 0, 1, 0, 1, 0, 0, 1, 0, 1, 1, 0, 1, 1, 0, 1, 1, 0, 1, 1, 0, 0,\n",
       "       0, 1, 1, 0, 1, 1, 1, 0, 1, 0, 1, 0, 1, 1, 0, 0, 0, 1, 1, 1, 0, 1,\n",
       "       1, 1, 0, 1, 0, 0, 0, 1, 0, 0, 1, 0, 1, 0, 1, 1, 1, 1, 1, 0, 1, 1,\n",
       "       0, 1, 0, 0, 1, 1, 0, 1, 0, 0, 1, 1, 0, 1, 0, 1, 0, 0, 0, 0, 1, 0,\n",
       "       1, 0, 0, 0, 1, 0, 0, 1, 0, 1, 1, 1, 0, 1, 0, 1, 0, 1, 1, 1, 0, 0,\n",
       "       1, 0, 0, 1, 0, 0, 1, 0, 1, 0, 1, 1, 1, 1, 0, 1, 0, 0, 1, 0, 0, 1,\n",
       "       0, 0, 1, 1, 0, 1, 0, 1, 0, 1, 0, 1, 0, 1, 0, 0, 0, 0, 0, 1, 0, 0,\n",
       "       0, 0, 1, 0, 0, 0, 0, 0, 1, 1, 0, 0, 1, 0, 1, 0, 1, 1, 1, 1, 0, 1,\n",
       "       1, 0, 1, 0, 0, 1, 1, 0, 0, 0, 1, 0, 0, 1], dtype=int64)"
      ]
     },
     "execution_count": 11,
     "metadata": {},
     "output_type": "execute_result"
    }
   ],
   "source": [
    "dbscan.labels_"
   ]
  },
  {
   "cell_type": "code",
   "execution_count": 12,
   "id": "0226c32c",
   "metadata": {},
   "outputs": [
    {
     "data": {
      "text/plain": [
       "<matplotlib.collections.PathCollection at 0x20dfd0b1ca0>"
      ]
     },
     "execution_count": 12,
     "metadata": {},
     "output_type": "execute_result"
    },
    {
     "data": {
      "image/png": "[encoded data removed]",
      "text/plain": [
       "<Figure size 640x480 with 1 Axes>"
      ]
     },
     "metadata": {},
     "output_type": "display_data"
    }
   ],
   "source": [
    "plt.scatter(x[:,0],x[:,1],c=dbscan.labels_)"
   ]
  },
  {
   "cell_type": "markdown",
   "id": "ba9c7a8f",
   "metadata": {},
   "source": [
    "# dbscan algorithm on a healthcare  dataset"
   ]
  },
  {
   "cell_type": "code",
   "execution_count": 13,
   "id": "99dcb544",
   "metadata": {},
   "outputs": [],
   "source": [
    "\n",
    "import pandas as pd\n",
    "df=pd.read_csv(r\"C:\\Users\\User\\Downloads/healthcare.csv\")"
   ]
  },
  {
   "cell_type": "code",
   "execution_count": 14,
   "id": "f9aaa894",
   "metadata": {},
   "outputs": [
    {
     "data": {
      "text/html": [
       "<div>\n",
       "<style scoped>\n",
       "    .dataframe tbody tr th:only-of-type {\n",
       "        vertical-align: middle;\n",
       "    }\n",
       "\n",
       "    .dataframe tbody tr th {\n",
       "        vertical-align: top;\n",
       "    }\n",
       "\n",
       "    .dataframe thead th {\n",
       "        text-align: right;\n",
       "    }\n",
       "</style>\n",
       "<table border=\"1\" class=\"dataframe\">\n",
       "  <thead>\n",
       "    <tr style=\"text-align: right;\">\n",
       "      <th></th>\n",
       "      <th>0</th>\n",
       "      <th>1</th>\n",
       "    </tr>\n",
       "  </thead>\n",
       "  <tbody>\n",
       "    <tr>\n",
       "      <th>0</th>\n",
       "      <td>1.616671</td>\n",
       "      <td>1.944522</td>\n",
       "    </tr>\n",
       "    <tr>\n",
       "      <th>1</th>\n",
       "      <td>1.256461</td>\n",
       "      <td>1.609444</td>\n",
       "    </tr>\n",
       "    <tr>\n",
       "      <th>2</th>\n",
       "      <td>-2.343919</td>\n",
       "      <td>4.392961</td>\n",
       "    </tr>\n",
       "    <tr>\n",
       "      <th>3</th>\n",
       "      <td>1.195393</td>\n",
       "      <td>2.794485</td>\n",
       "    </tr>\n",
       "    <tr>\n",
       "      <th>4</th>\n",
       "      <td>-3.329586</td>\n",
       "      <td>5.303160</td>\n",
       "    </tr>\n",
       "    <tr>\n",
       "      <th>...</th>\n",
       "      <td>...</td>\n",
       "      <td>...</td>\n",
       "    </tr>\n",
       "    <tr>\n",
       "      <th>245</th>\n",
       "      <td>2.269762</td>\n",
       "      <td>1.958685</td>\n",
       "    </tr>\n",
       "    <tr>\n",
       "      <th>246</th>\n",
       "      <td>1.142436</td>\n",
       "      <td>0.673557</td>\n",
       "    </tr>\n",
       "    <tr>\n",
       "      <th>247</th>\n",
       "      <td>8.195404</td>\n",
       "      <td>1.555439</td>\n",
       "    </tr>\n",
       "    <tr>\n",
       "      <th>248</th>\n",
       "      <td>-4.086492</td>\n",
       "      <td>5.411917</td>\n",
       "    </tr>\n",
       "    <tr>\n",
       "      <th>249</th>\n",
       "      <td>-1.753129</td>\n",
       "      <td>4.941948</td>\n",
       "    </tr>\n",
       "  </tbody>\n",
       "</table>\n",
       "<p>250 rows × 2 columns</p>\n",
       "</div>"
      ],
      "text/plain": [
       "            0         1\n",
       "0    1.616671  1.944522\n",
       "1    1.256461  1.609444\n",
       "2   -2.343919  4.392961\n",
       "3    1.195393  2.794485\n",
       "4   -3.329586  5.303160\n",
       "..        ...       ...\n",
       "245  2.269762  1.958685\n",
       "246  1.142436  0.673557\n",
       "247  8.195404  1.555439\n",
       "248 -4.086492  5.411917\n",
       "249 -1.753129  4.941948\n",
       "\n",
       "[250 rows x 2 columns]"
      ]
     },
     "execution_count": 14,
     "metadata": {},
     "output_type": "execute_result"
    }
   ],
   "source": [
    "df"
   ]
  },
  {
   "cell_type": "code",
   "execution_count": 15,
   "id": "668bd0f4",
   "metadata": {},
   "outputs": [],
   "source": [
    "X=df.drop(\"0\",axis=1)\n",
    "y=df[\"1\"]"
   ]
  },
  {
   "cell_type": "code",
   "execution_count": 16,
   "id": "c60388c5",
   "metadata": {},
   "outputs": [
    {
     "data": {
      "text/html": [
       "<div>\n",
       "<style scoped>\n",
       "    .dataframe tbody tr th:only-of-type {\n",
       "        vertical-align: middle;\n",
       "    }\n",
       "\n",
       "    .dataframe tbody tr th {\n",
       "        vertical-align: top;\n",
       "    }\n",
       "\n",
       "    .dataframe thead th {\n",
       "        text-align: right;\n",
       "    }\n",
       "</style>\n",
       "<table border=\"1\" class=\"dataframe\">\n",
       "  <thead>\n",
       "    <tr style=\"text-align: right;\">\n",
       "      <th></th>\n",
       "      <th>1</th>\n",
       "    </tr>\n",
       "  </thead>\n",
       "  <tbody>\n",
       "    <tr>\n",
       "      <th>0</th>\n",
       "      <td>1.944522</td>\n",
       "    </tr>\n",
       "    <tr>\n",
       "      <th>1</th>\n",
       "      <td>1.609444</td>\n",
       "    </tr>\n",
       "    <tr>\n",
       "      <th>2</th>\n",
       "      <td>4.392961</td>\n",
       "    </tr>\n",
       "    <tr>\n",
       "      <th>3</th>\n",
       "      <td>2.794485</td>\n",
       "    </tr>\n",
       "    <tr>\n",
       "      <th>4</th>\n",
       "      <td>5.303160</td>\n",
       "    </tr>\n",
       "    <tr>\n",
       "      <th>...</th>\n",
       "      <td>...</td>\n",
       "    </tr>\n",
       "    <tr>\n",
       "      <th>245</th>\n",
       "      <td>1.958685</td>\n",
       "    </tr>\n",
       "    <tr>\n",
       "      <th>246</th>\n",
       "      <td>0.673557</td>\n",
       "    </tr>\n",
       "    <tr>\n",
       "      <th>247</th>\n",
       "      <td>1.555439</td>\n",
       "    </tr>\n",
       "    <tr>\n",
       "      <th>248</th>\n",
       "      <td>5.411917</td>\n",
       "    </tr>\n",
       "    <tr>\n",
       "      <th>249</th>\n",
       "      <td>4.941948</td>\n",
       "    </tr>\n",
       "  </tbody>\n",
       "</table>\n",
       "<p>250 rows × 1 columns</p>\n",
       "</div>"
      ],
      "text/plain": [
       "            1\n",
       "0    1.944522\n",
       "1    1.609444\n",
       "2    4.392961\n",
       "3    2.794485\n",
       "4    5.303160\n",
       "..        ...\n",
       "245  1.958685\n",
       "246  0.673557\n",
       "247  1.555439\n",
       "248  5.411917\n",
       "249  4.941948\n",
       "\n",
       "[250 rows x 1 columns]"
      ]
     },
     "execution_count": 16,
     "metadata": {},
     "output_type": "execute_result"
    }
   ],
   "source": [
    "X"
   ]
  },
  {
   "cell_type": "code",
   "execution_count": 17,
   "id": "aea27419",
   "metadata": {},
   "outputs": [
    {
     "data": {
      "text/plain": [
       "(250, 1)"
      ]
     },
     "execution_count": 17,
     "metadata": {},
     "output_type": "execute_result"
    }
   ],
   "source": [
    "X.shape"
   ]
  },
  {
   "cell_type": "code",
   "execution_count": 18,
   "id": "7a322dc1",
   "metadata": {},
   "outputs": [
    {
     "data": {
      "text/plain": [
       "0      1.944522\n",
       "1      1.609444\n",
       "2      4.392961\n",
       "3      2.794485\n",
       "4      5.303160\n",
       "         ...   \n",
       "245    1.958685\n",
       "246    0.673557\n",
       "247    1.555439\n",
       "248    5.411917\n",
       "249    4.941948\n",
       "Name: 1, Length: 250, dtype: float64"
      ]
     },
     "execution_count": 18,
     "metadata": {},
     "output_type": "execute_result"
    }
   ],
   "source": [
    "y"
   ]
  },
  {
   "cell_type": "code",
   "execution_count": 19,
   "id": "22ec3d92",
   "metadata": {},
   "outputs": [
    {
     "data": {
      "text/plain": [
       "(250,)"
      ]
     },
     "execution_count": 19,
     "metadata": {},
     "output_type": "execute_result"
    }
   ],
   "source": [
    "y.shape"
   ]
  },
  {
   "cell_type": "code",
   "execution_count": 20,
   "id": "b4355c53",
   "metadata": {},
   "outputs": [],
   "source": [
    "from sklearn.model_selection import train_test_split\n",
    "X_train,y_train,X_test,y_test=train_test_split(X,y,test_size=0.6,random_state=40)"
   ]
  },
  {
   "cell_type": "code",
   "execution_count": 21,
   "id": "8d8fe3fa",
   "metadata": {},
   "outputs": [
    {
     "data": {
      "text/html": [
       "<div>\n",
       "<style scoped>\n",
       "    .dataframe tbody tr th:only-of-type {\n",
       "        vertical-align: middle;\n",
       "    }\n",
       "\n",
       "    .dataframe tbody tr th {\n",
       "        vertical-align: top;\n",
       "    }\n",
       "\n",
       "    .dataframe thead th {\n",
       "        text-align: right;\n",
       "    }\n",
       "</style>\n",
       "<table border=\"1\" class=\"dataframe\">\n",
       "  <thead>\n",
       "    <tr style=\"text-align: right;\">\n",
       "      <th></th>\n",
       "      <th>1</th>\n",
       "    </tr>\n",
       "  </thead>\n",
       "  <tbody>\n",
       "    <tr>\n",
       "      <th>47</th>\n",
       "      <td>1.248313</td>\n",
       "    </tr>\n",
       "    <tr>\n",
       "      <th>214</th>\n",
       "      <td>0.815905</td>\n",
       "    </tr>\n",
       "    <tr>\n",
       "      <th>78</th>\n",
       "      <td>2.980435</td>\n",
       "    </tr>\n",
       "    <tr>\n",
       "      <th>106</th>\n",
       "      <td>1.374053</td>\n",
       "    </tr>\n",
       "    <tr>\n",
       "      <th>208</th>\n",
       "      <td>1.332435</td>\n",
       "    </tr>\n",
       "    <tr>\n",
       "      <th>...</th>\n",
       "      <td>...</td>\n",
       "    </tr>\n",
       "    <tr>\n",
       "      <th>184</th>\n",
       "      <td>4.214688</td>\n",
       "    </tr>\n",
       "    <tr>\n",
       "      <th>165</th>\n",
       "      <td>4.408060</td>\n",
       "    </tr>\n",
       "    <tr>\n",
       "      <th>7</th>\n",
       "      <td>2.044243</td>\n",
       "    </tr>\n",
       "    <tr>\n",
       "      <th>219</th>\n",
       "      <td>0.418660</td>\n",
       "    </tr>\n",
       "    <tr>\n",
       "      <th>70</th>\n",
       "      <td>5.768189</td>\n",
       "    </tr>\n",
       "  </tbody>\n",
       "</table>\n",
       "<p>100 rows × 1 columns</p>\n",
       "</div>"
      ],
      "text/plain": [
       "            1\n",
       "47   1.248313\n",
       "214  0.815905\n",
       "78   2.980435\n",
       "106  1.374053\n",
       "208  1.332435\n",
       "..        ...\n",
       "184  4.214688\n",
       "165  4.408060\n",
       "7    2.044243\n",
       "219  0.418660\n",
       "70   5.768189\n",
       "\n",
       "[100 rows x 1 columns]"
      ]
     },
     "execution_count": 21,
     "metadata": {},
     "output_type": "execute_result"
    }
   ],
   "source": [
    "X_train"
   ]
  },
  {
   "cell_type": "code",
   "execution_count": 22,
   "id": "b418091c",
   "metadata": {},
   "outputs": [
    {
     "data": {
      "text/html": [
       "<div>\n",
       "<style scoped>\n",
       "    .dataframe tbody tr th:only-of-type {\n",
       "        vertical-align: middle;\n",
       "    }\n",
       "\n",
       "    .dataframe tbody tr th {\n",
       "        vertical-align: top;\n",
       "    }\n",
       "\n",
       "    .dataframe thead th {\n",
       "        text-align: right;\n",
       "    }\n",
       "</style>\n",
       "<table border=\"1\" class=\"dataframe\">\n",
       "  <thead>\n",
       "    <tr style=\"text-align: right;\">\n",
       "      <th></th>\n",
       "      <th>1</th>\n",
       "    </tr>\n",
       "  </thead>\n",
       "  <tbody>\n",
       "    <tr>\n",
       "      <th>54</th>\n",
       "      <td>4.827009</td>\n",
       "    </tr>\n",
       "    <tr>\n",
       "      <th>170</th>\n",
       "      <td>5.082114</td>\n",
       "    </tr>\n",
       "    <tr>\n",
       "      <th>81</th>\n",
       "      <td>4.801364</td>\n",
       "    </tr>\n",
       "    <tr>\n",
       "      <th>18</th>\n",
       "      <td>5.650923</td>\n",
       "    </tr>\n",
       "    <tr>\n",
       "      <th>169</th>\n",
       "      <td>0.983378</td>\n",
       "    </tr>\n",
       "    <tr>\n",
       "      <th>...</th>\n",
       "      <td>...</td>\n",
       "    </tr>\n",
       "    <tr>\n",
       "      <th>247</th>\n",
       "      <td>1.555439</td>\n",
       "    </tr>\n",
       "    <tr>\n",
       "      <th>45</th>\n",
       "      <td>-3.014879</td>\n",
       "    </tr>\n",
       "    <tr>\n",
       "      <th>76</th>\n",
       "      <td>5.570551</td>\n",
       "    </tr>\n",
       "    <tr>\n",
       "      <th>168</th>\n",
       "      <td>2.341666</td>\n",
       "    </tr>\n",
       "    <tr>\n",
       "      <th>124</th>\n",
       "      <td>4.593504</td>\n",
       "    </tr>\n",
       "  </tbody>\n",
       "</table>\n",
       "<p>150 rows × 1 columns</p>\n",
       "</div>"
      ],
      "text/plain": [
       "            1\n",
       "54   4.827009\n",
       "170  5.082114\n",
       "81   4.801364\n",
       "18   5.650923\n",
       "169  0.983378\n",
       "..        ...\n",
       "247  1.555439\n",
       "45  -3.014879\n",
       "76   5.570551\n",
       "168  2.341666\n",
       "124  4.593504\n",
       "\n",
       "[150 rows x 1 columns]"
      ]
     },
     "execution_count": 22,
     "metadata": {},
     "output_type": "execute_result"
    }
   ],
   "source": [
    "y_train"
   ]
  },
  {
   "cell_type": "code",
   "execution_count": 23,
   "id": "205dec66",
   "metadata": {},
   "outputs": [
    {
     "data": {
      "text/plain": [
       "47     1.248313\n",
       "214    0.815905\n",
       "78     2.980435\n",
       "106    1.374053\n",
       "208    1.332435\n",
       "         ...   \n",
       "184    4.214688\n",
       "165    4.408060\n",
       "7      2.044243\n",
       "219    0.418660\n",
       "70     5.768189\n",
       "Name: 1, Length: 100, dtype: float64"
      ]
     },
     "execution_count": 23,
     "metadata": {},
     "output_type": "execute_result"
    }
   ],
   "source": [
    "X_test"
   ]
  },
  {
   "cell_type": "code",
   "execution_count": 24,
   "id": "2c100b64",
   "metadata": {},
   "outputs": [
    {
     "data": {
      "text/plain": [
       "54     4.827009\n",
       "170    5.082114\n",
       "81     4.801364\n",
       "18     5.650923\n",
       "169    0.983378\n",
       "         ...   \n",
       "247    1.555439\n",
       "45    -3.014879\n",
       "76     5.570551\n",
       "168    2.341666\n",
       "124    4.593504\n",
       "Name: 1, Length: 150, dtype: float64"
      ]
     },
     "execution_count": 24,
     "metadata": {},
     "output_type": "execute_result"
    }
   ],
   "source": [
    "y_test"
   ]
  },
  {
   "cell_type": "code",
   "execution_count": 25,
   "id": "d618e511",
   "metadata": {},
   "outputs": [],
   "source": [
    "from sklearn.preprocessing import StandardScaler\n",
    "scaler=StandardScaler()"
   ]
  },
  {
   "cell_type": "code",
   "execution_count": 27,
   "id": "5c9a321a",
   "metadata": {},
   "outputs": [],
   "source": [
    "x_sc1=scaler.fit_transform(df)"
   ]
  },
  {
   "cell_type": "code",
   "execution_count": 28,
   "id": "a97b0cb8",
   "metadata": {},
   "outputs": [
    {
     "data": {
      "text/plain": [
       "array([[ 0.55205408, -0.41185708],\n",
       "       [ 0.41859784, -0.54814823],\n",
       "       [-0.91532762,  0.58403302],\n",
       "       [ 0.39597204, -0.06613916],\n",
       "       [-1.28051313,  0.95425157],\n",
       "       [ 0.55484275, -0.70705975],\n",
       "       [ 0.12207463, -0.4675599 ],\n",
       "       [ 0.18391909, -0.37129598],\n",
       "       [-0.80979681,  0.6926134 ],\n",
       "       [ 0.75449476, -0.63679881],\n",
       "       [-0.83750424,  0.60153649],\n",
       "       [-0.65938719,  0.79849006],\n",
       "       [ 0.23113133, -0.29243915],\n",
       "       [-0.68073731,  0.90205297],\n",
       "       [ 0.27209011, -0.27462568],\n",
       "       [-0.73705361,  0.64975533],\n",
       "       [ 0.50151883, -0.47070887],\n",
       "       [ 0.49112955, -0.10483878],\n",
       "       [-0.66011984,  1.09570253],\n",
       "       [ 0.40837576, -0.67873619],\n",
       "       [ 3.43543149, -2.00467211],\n",
       "       [ 0.70898937, -0.35819486],\n",
       "       [ 0.28298918, -0.75747501],\n",
       "       [-0.91845139,  1.02277612],\n",
       "       [ 0.16283178,  1.27381411],\n",
       "       [-0.9294632 ,  0.53853575],\n",
       "       [-1.00208749,  0.98981705],\n",
       "       [-0.76161066,  0.7660003 ],\n",
       "       [-0.93858116,  0.53271261],\n",
       "       [ 0.09026825, -0.65323583],\n",
       "       [-0.64949214,  0.58914427],\n",
       "       [ 0.06631176, -0.03723661],\n",
       "       [-0.84196942,  0.67607637],\n",
       "       [-0.84515117,  0.49008993],\n",
       "       [ 0.9063495 , -0.17430623],\n",
       "       [ 0.40426508, -0.24460785],\n",
       "       [-0.81200921,  0.85005039],\n",
       "       [ 0.60645264, -0.90568706],\n",
       "       [ 0.08604076, -0.46090011],\n",
       "       [-0.75891468,  0.87816212],\n",
       "       [-0.91461873,  1.16844977],\n",
       "       [ 0.5628433 , -0.31459409],\n",
       "       [-0.69138102,  0.71384349],\n",
       "       [ 0.82883432, -0.86084879],\n",
       "       [ 0.65836491, -0.65197124],\n",
       "       [ 2.49422289, -2.42906798],\n",
       "       [ 0.40155697, -0.80548051],\n",
       "       [ 0.33442721, -0.6950366 ],\n",
       "       [ 1.48488398,  2.02814329],\n",
       "       [ 0.76266057,  0.04536613],\n",
       "       [ 0.33394166, -0.58360128],\n",
       "       [ 0.73104426, -0.77802504],\n",
       "       [ 0.27858324, -1.15663927],\n",
       "       [ 3.11010175, -2.02087725],\n",
       "       [-0.96499394,  0.76057974],\n",
       "       [-0.55226329, -2.5940357 ],\n",
       "       [-0.71921264,  0.85983435],\n",
       "       [ 0.30915239, -0.43912834],\n",
       "       [ 0.52069514, -0.64595937],\n",
       "       [ 0.67097971, -1.04880423],\n",
       "       [-0.51105712,  0.40996501],\n",
       "       [-1.20574561,  0.62299319],\n",
       "       [ 1.06985656, -0.21212601],\n",
       "       [ 0.80546518,  0.931939  ],\n",
       "       [-0.79932333,  0.80911996],\n",
       "       [ 0.62394241, -0.4976599 ],\n",
       "       [-0.63199679,  0.7802099 ],\n",
       "       [-0.81711465,  1.28989824],\n",
       "       [-1.11552513,  0.90323809],\n",
       "       [ 0.22240931, -0.57781161],\n",
       "       [-0.91610793,  1.14339963],\n",
       "       [-1.11318214,  0.92265053],\n",
       "       [ 3.31961399, -1.53987248],\n",
       "       [ 0.17933134, -0.31665613],\n",
       "       [ 2.84652785,  0.41312238],\n",
       "       [-0.81252302,  0.77038044],\n",
       "       [-0.62897861,  1.06301155],\n",
       "       [-1.14659886,  0.86933526],\n",
       "       [ 2.23999153,  0.00949527],\n",
       "       [-0.82623564,  1.00994702],\n",
       "       [-1.1759279 ,  0.85610452],\n",
       "       [-0.90599102,  0.75014876],\n",
       "       [ 0.54618508, -0.17860133],\n",
       "       [ 0.20449376, -2.19779122],\n",
       "       [ 0.41702055, -0.98414218],\n",
       "       [-0.11431869,  2.68102732],\n",
       "       [ 0.52607885, -0.5065439 ],\n",
       "       [-2.11920718, -2.94110205],\n",
       "       [ 0.19101479, -0.35225591],\n",
       "       [-1.02993847,  1.16816096],\n",
       "       [ 0.23688875, -0.99697362],\n",
       "       [ 0.17352925, -0.51662902],\n",
       "       [-1.55933635, -1.44607881],\n",
       "       [ 0.58617498, -0.21501367],\n",
       "       [ 0.81693977, -0.50242378],\n",
       "       [-0.86190425,  0.90620206],\n",
       "       [-0.61571835,  0.94935132],\n",
       "       [ 2.30035051, -0.42966944],\n",
       "       [-0.5899681 ,  0.73873672],\n",
       "       [ 0.68318544, -0.47665102],\n",
       "       [-0.81309157,  1.06215525],\n",
       "       [ 0.66808745, -0.33009215],\n",
       "       [-0.96286382,  0.74755009],\n",
       "       [-0.86958715,  0.77392632],\n",
       "       [-0.50633139,  1.18065995],\n",
       "       [-1.0081408 ,  0.72787042],\n",
       "       [ 0.81454075, -0.64389257],\n",
       "       [-0.89880653,  0.60400021],\n",
       "       [-2.22867826, -0.31934913],\n",
       "       [ 0.89631273, -0.65107707],\n",
       "       [-0.8083846 ,  1.0384179 ],\n",
       "       [-0.73486262,  0.95476494],\n",
       "       [ 0.59002098, -0.83584346],\n",
       "       [ 0.75505724, -0.56773641],\n",
       "       [-0.91870602, -0.86366821],\n",
       "       [ 0.34431828, -0.6959443 ],\n",
       "       [-0.79571935,  0.77259795],\n",
       "       [-0.36937504,  0.82234895],\n",
       "       [-0.57444022,  1.05050755],\n",
       "       [ 3.24129385,  1.61593041],\n",
       "       [-1.10247764,  0.90970507],\n",
       "       [-0.92232253,  0.5496048 ],\n",
       "       [ 0.48205831, -0.47575794],\n",
       "       [-0.82218797,  0.66668946],\n",
       "       [-0.92121234,  0.66560253],\n",
       "       [-0.78075095,  0.49401272],\n",
       "       [-0.40640934, -0.33351434],\n",
       "       [ 0.51155096, -0.08418857],\n",
       "       [-0.90425905,  0.73311524],\n",
       "       [-0.66446114,  0.73724519],\n",
       "       [ 1.9203118 ,  1.10106813],\n",
       "       [-0.51622661,  1.00432845],\n",
       "       [ 0.34190731, -1.22571459],\n",
       "       [ 2.30214766, -3.16137408],\n",
       "       [ 0.20458178, -0.03927357],\n",
       "       [-0.69085749,  0.84892551],\n",
       "       [ 0.64453804, -0.64150704],\n",
       "       [ 0.80432795, -0.94424546],\n",
       "       [-0.99664924,  0.68234318],\n",
       "       [-0.76980383,  0.9494996 ],\n",
       "       [-0.77873834,  0.93137568],\n",
       "       [-2.08357996,  0.49845605],\n",
       "       [ 0.74487998, -0.50234531],\n",
       "       [-0.90876447,  0.75143376],\n",
       "       [ 0.16755117, -0.72408714],\n",
       "       [-0.8985587 ,  0.78255617],\n",
       "       [-0.63701913,  0.84292673],\n",
       "       [ 0.2066497 , -0.33617954],\n",
       "       [-0.87378734,  0.92886295],\n",
       "       [-0.79081225,  0.86367125],\n",
       "       [ 0.2735227 , -0.57787416],\n",
       "       [ 2.57924537,  1.95831329],\n",
       "       [-0.84549817,  0.8507514 ],\n",
       "       [-1.0350757 ,  0.55705768],\n",
       "       [ 0.74764978, -0.50191554],\n",
       "       [ 0.80101745, -0.90014374],\n",
       "       [-1.0517114 ,  0.73061523],\n",
       "       [ 0.58142541, -0.62060964],\n",
       "       [-0.8126751 ,  1.05012627],\n",
       "       [ 0.31567788, -0.82796886],\n",
       "       [-1.16408712,  1.25080383],\n",
       "       [-0.85920533,  0.85013141],\n",
       "       [ 0.73301674, -0.80397439],\n",
       "       [-0.85337965,  0.50219661],\n",
       "       [-0.42557862,  0.91027712],\n",
       "       [-0.64466372,  0.59017421],\n",
       "       [ 1.12688925, -0.3237506 ],\n",
       "       [ 2.05516533,  0.50592102],\n",
       "       [ 0.8279    , -0.25032084],\n",
       "       [ 0.5025189 , -0.80279732],\n",
       "       [-0.48259371,  0.86434229],\n",
       "       [ 0.31702437, -0.15333484],\n",
       "       [-0.65980111,  0.97223572],\n",
       "       [ 0.29794076, -1.08417373],\n",
       "       [ 0.4280276 , -0.57667265],\n",
       "       [-0.84516996,  0.78346221],\n",
       "       [ 0.37966459, -0.04328505],\n",
       "       [-0.7139847 ,  0.26707397],\n",
       "       [ 0.70620066, -0.55802064],\n",
       "       [ 2.5165598 ,  2.18843793],\n",
       "       [-0.97047093,  0.53161223],\n",
       "       [-0.36111155,  0.6153649 ],\n",
       "       [ 1.09748185, -1.00675316],\n",
       "       [ 0.61317391, -0.78764421],\n",
       "       [-0.66873455,  0.51152139],\n",
       "       [ 0.7127596 , -0.72546362],\n",
       "       [-0.8884711 ,  0.915556  ],\n",
       "       [-0.42640816, -1.52698426],\n",
       "       [ 0.21123526, -0.71732086],\n",
       "       [-0.70894366,  0.96860733],\n",
       "       [ 1.00753705, -0.17112987],\n",
       "       [ 0.54901296, -0.48499316],\n",
       "       [-1.05587463,  0.99370143],\n",
       "       [ 0.34392304, -0.40006909],\n",
       "       [-0.98153812,  1.07725646],\n",
       "       [-0.61528426,  0.9000824 ],\n",
       "       [-0.85546587,  0.86281214],\n",
       "       [-0.15328243, -0.40656492],\n",
       "       [-0.46692429,  0.97015155],\n",
       "       [ 0.677765  , -1.68515928],\n",
       "       [-0.53513058,  0.69072794],\n",
       "       [-0.65851949,  0.83170979],\n",
       "       [ 0.43932194, -0.36418761],\n",
       "       [-1.00230475,  0.76743126],\n",
       "       [ 1.34356552, -0.37185683],\n",
       "       [ 0.49863993, -0.92524534],\n",
       "       [-0.68281787,  0.78565692],\n",
       "       [-0.87676239,  0.95710667],\n",
       "       [ 0.41308161, -0.6608205 ],\n",
       "       [ 0.99721729, -0.97639997],\n",
       "       [-0.79106017,  0.9080519 ],\n",
       "       [-0.73595595,  0.62896893],\n",
       "       [-0.58137512, -3.40319337],\n",
       "       [ 0.28547151, -0.04882775],\n",
       "       [ 0.99317337, -0.87091605],\n",
       "       [ 0.39068682, -0.58768743],\n",
       "       [ 0.30046593, -0.7889937 ],\n",
       "       [-0.38478724, -2.92704171],\n",
       "       [-0.64588447,  0.90340303],\n",
       "       [ 0.24942496, -1.03249352],\n",
       "       [ 3.02113846, -0.13325562],\n",
       "       [-0.9135902 , -3.14227166],\n",
       "       [ 0.69791526, -0.55593993],\n",
       "       [ 0.48329444, -0.78157059],\n",
       "       [-1.12933186,  0.73373616],\n",
       "       [ 0.24060003, -0.39859958],\n",
       "       [ 0.54174208, -0.47820915],\n",
       "       [-0.14492978, -2.88918427],\n",
       "       [ 0.674844  , -1.05304612],\n",
       "       [ 0.60125036, -0.39148762],\n",
       "       [ 0.27659125, -0.4825047 ],\n",
       "       [ 0.75523039, -0.63575876],\n",
       "       [-0.89837307,  0.82025216],\n",
       "       [-0.90874317,  0.72494736],\n",
       "       [ 0.37665105, -0.71739325],\n",
       "       [ 0.61153096, -0.90388213],\n",
       "       [-0.82322533,  0.75064139],\n",
       "       [-1.08114312,  0.95507723],\n",
       "       [ 0.99317362, -0.33469382],\n",
       "       [ 0.62959596, -1.03006558],\n",
       "       [ 0.32869372, -0.63526828],\n",
       "       [-1.07333652,  0.84380864],\n",
       "       [-0.30834924, -3.22961807],\n",
       "       [ 0.96632949, -0.4787308 ],\n",
       "       [ 0.89480155, -0.0528639 ],\n",
       "       [ 0.79402122, -0.40609651],\n",
       "       [ 0.37635203, -0.92881538],\n",
       "       [ 2.98944622, -0.57011467],\n",
       "       [-1.56094353,  0.99848785],\n",
       "       [-0.69644257,  0.80733055]])"
      ]
     },
     "execution_count": 28,
     "metadata": {},
     "output_type": "execute_result"
    }
   ],
   "source": [
    "x_sc1"
   ]
  },
  {
   "cell_type": "code",
   "execution_count": 29,
   "id": "2c67d008",
   "metadata": {},
   "outputs": [
    {
     "data": {
      "text/plain": [
       "(250, 2)"
      ]
     },
     "execution_count": 29,
     "metadata": {},
     "output_type": "execute_result"
    }
   ],
   "source": [
    "x_sc1.shape"
   ]
  },
  {
   "cell_type": "code",
   "execution_count": 32,
   "id": "20408172",
   "metadata": {},
   "outputs": [
    {
     "data": {
      "text/plain": [
       "<matplotlib.collections.PathCollection at 0x20dfe186cd0>"
      ]
     },
     "execution_count": 32,
     "metadata": {},
     "output_type": "execute_result"
    },
    {
     "data": {
      "image/png": "[encoded data removed]",
      "text/plain": [
       "<Figure size 640x480 with 1 Axes>"
      ]
     },
     "metadata": {},
     "output_type": "display_data"
    }
   ],
   "source": [
    "\n",
    "plt.scatter(x_sc1[:,0],x_sc1[:,1])"
   ]
  },
  {
   "cell_type": "code",
   "execution_count": 33,
   "id": "c4fc3304",
   "metadata": {},
   "outputs": [],
   "source": [
    "dbscan=DBSCAN(eps=0.3)"
   ]
  },
  {
   "cell_type": "code",
   "execution_count": 34,
   "id": "8a1a3c2f",
   "metadata": {},
   "outputs": [
    {
     "data": {
      "text/plain": [
       "DBSCAN(eps=0.3)"
      ]
     },
     "execution_count": 34,
     "metadata": {},
     "output_type": "execute_result"
    }
   ],
   "source": [
    "dbscan.fit(x_sc1)"
   ]
  },
  {
   "cell_type": "code",
   "execution_count": 40,
   "id": "9b87c531",
   "metadata": {},
   "outputs": [
    {
     "data": {
      "text/plain": [
       "DBSCAN(eps=0.3)"
      ]
     },
     "execution_count": 40,
     "metadata": {},
     "output_type": "execute_result"
    }
   ],
   "source": [
    "dbscan.fit(x_sc1)"
   ]
  },
  {
   "cell_type": "code",
   "execution_count": 36,
   "id": "35d5e37a",
   "metadata": {},
   "outputs": [
    {
     "data": {
      "text/plain": [
       "array([ 0,  0,  1,  0,  1,  0,  0,  0,  1,  0,  1,  1,  0,  1,  0,  1,  0,\n",
       "        0,  1,  0, -1,  0,  0,  1, -1,  1,  1,  1,  1,  0,  1,  0,  1,  1,\n",
       "        0,  0,  1,  0,  0,  1,  1,  0,  1,  0,  0, -1,  0,  0, -1,  0,  0,\n",
       "        0,  0, -1,  1, -1,  1,  0,  0,  0,  1,  1,  0, -1,  1,  0,  1,  1,\n",
       "        1,  0,  1,  1, -1,  0, -1,  1,  1,  1, -1,  1,  1,  1,  0, -1,  0,\n",
       "       -1,  0, -1,  0,  1,  0,  0, -1,  0,  0,  1,  1, -1,  1,  0,  1,  0,\n",
       "        1,  1,  1,  1,  0,  1, -1,  0,  1,  1,  0,  0, -1,  0,  1,  1,  1,\n",
       "       -1,  1,  1,  0,  1,  1,  1, -1,  0,  1,  1, -1,  1,  0, -1,  0,  1,\n",
       "        0,  0,  1,  1,  1, -1,  0,  1,  0,  1,  1,  0,  1,  1,  0, -1,  1,\n",
       "        1,  0,  0,  1,  0,  1,  0,  1,  1,  0,  1,  1,  1,  0, -1,  0,  0,\n",
       "        1,  0,  1,  0,  0,  1,  0,  1,  0, -1,  1,  1,  0,  0,  1,  0,  1,\n",
       "       -1,  0,  1,  0,  0,  1,  0,  1,  1,  1,  0,  1, -1,  1,  1,  0,  1,\n",
       "        0,  0,  1,  1,  0,  0,  1,  1, -1,  0,  0,  0,  0, -1,  1,  0, -1,\n",
       "       -1,  0,  0,  1,  0,  0, -1,  0,  0,  0,  0,  1,  1,  0,  0,  1,  1,\n",
       "        0,  0,  0,  1, -1,  0,  0,  0,  0, -1,  1,  1], dtype=int64)"
      ]
     },
     "execution_count": 36,
     "metadata": {},
     "output_type": "execute_result"
    }
   ],
   "source": [
    "dbscan.labels_"
   ]
  },
  {
   "cell_type": "code",
   "execution_count": 37,
   "id": "12c382c0",
   "metadata": {},
   "outputs": [
    {
     "data": {
      "text/plain": [
       "<matplotlib.collections.PathCollection at 0x20dfe32bfd0>"
      ]
     },
     "execution_count": 37,
     "metadata": {},
     "output_type": "execute_result"
    },
    {
     "data": {
      "image/png": "[encoded data removed]",
      "text/plain": [
       "<Figure size 640x480 with 1 Axes>"
      ]
     },
     "metadata": {},
     "output_type": "display_data"
    }
   ],
   "source": [
    "plt.scatter(x_sc1[:,0],x_sc1[:,1],c=dbscan.labels_)"
   ]
  },
  {
   "cell_type": "code",
   "execution_count": 38,
   "id": "f5e5db23",
   "metadata": {
    "scrolled": true
   },
   "outputs": [
    {
     "data": {
      "text/plain": [
       "<matplotlib.collections.PathCollection at 0x20dfe212fd0>"
      ]
     },
     "execution_count": 38,
     "metadata": {},
     "output_type": "execute_result"
    },
    {
     "data": {
      "image/png": "[encoded data removed]",
      "text/plain": [
       "<Figure size 640x480 with 1 Axes>"
      ]
     },
     "metadata": {},
     "output_type": "display_data"
    }
   ],
   "source": [
    "plt.scatter(x_sc1[:,0],x_sc1[:,1],c=y)"
   ]
  },
  {
   "cell_type": "markdown",
   "id": "908c6847",
   "metadata": {},
   "source": [
    "the plot show that it has many outliers present in it."
   ]
  },
  {
   "cell_type": "code",
   "execution_count": null,
   "id": "909442f5",
   "metadata": {},
   "outputs": [],
   "source": []
  }
 ],
 "metadata": {
  "kernelspec": {
   "display_name": "Python 3 (ipykernel)",
   "language": "python",
   "name": "python3"
  },
  "language_info": {
   "codemirror_mode": {
    "name": "ipython",
    "version": 3
   },
   "file_extension": ".py",
   "mimetype": "text/x-python",
   "name": "python",
   "nbconvert_exporter": "python",
   "pygments_lexer": "ipython3",
   "version": "3.9.13"
  }
 },
 "nbformat": 4,
 "nbformat_minor": 5
}
