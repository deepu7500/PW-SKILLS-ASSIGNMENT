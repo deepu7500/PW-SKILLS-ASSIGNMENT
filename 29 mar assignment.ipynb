{
 "cells": [
  {
   "cell_type": "markdown",
   "id": "dc5e1aa6",
   "metadata": {},
   "source": [
    "# ans 1->\n",
    "Lasso regression is a type of linear regression that uses regularization to prevent overfitting and improve \n",
    "the accuracy of the model.Lasso regression  uses  to prevent overfitting and improve the accuracy of the model.it use feature \n",
    "selection technique.\n",
    "Lasso regression uses L1 regularization, which adds a penalty term to the cost function that shrinks the coefficients\n",
    "towards zero.\n",
    "Feature Selection can help to identify the most important predictors in the model and improve its interpretability.\n",
    "Lasso regression can handle multicollinearity,as it choose only one correlated."
   ]
  },
  {
   "cell_type": "markdown",
   "id": "44aed774",
   "metadata": {},
   "source": [
    "# ans 2->\n",
    "main advanatage of feature selection is its ability to select important feature itself for feature selection and\n",
    "shrink less important feature."
   ]
  },
  {
   "cell_type": "markdown",
   "id": "ea01683f",
   "metadata": {},
   "source": [
    "# ans 3->\n",
    "In Lasso Regression, the coefficients are penalized to reduce overfitting and control the model complexity.\n",
    "As a result, some coefficients may be shrunk towards zero and set to exactly zero, meaning that the corresponding \n",
    "feature is excluded from the model."
   ]
  },
  {
   "cell_type": "markdown",
   "id": "08d5d92a",
   "metadata": {},
   "source": [
    "# ans 4->\n",
    "Lasso Regularization has one turning parameter i.e LAMDA.when lamda=0 then it becomes normal linear regression.\n",
    "when lamda increases the model features excluded.when the lambda value decreses\n",
    "the model overfit the training data.this may result in poor performance."
   ]
  },
  {
   "cell_type": "markdown",
   "id": "37510001",
   "metadata": {},
   "source": [
    "# ans 5->\n",
    "Yes, Lasso Regression can be used for non-linear regression problems \n",
    "we can apply a non-linear function, such as a polynomial or exponential function, to the input features then we can use Lasso Regression to fit the transformed features to the target variable. "
   ]
  },
  {
   "cell_type": "markdown",
   "id": "10ec236f",
   "metadata": {},
   "source": [
    "# ans 6->\n",
    "Ridge Regression adds a penalty term to the regression equation that is proportional to the square of the magnitude of the coefficients. This penalty term shrinks the coefficients towards zero\n",
    "\n",
    "Lasso Regression adds a penalty term to the regression equation that is proportional to the absolute value of the coefficients. This penalty term not only shrinks the coefficients towards zero but also sets some of them exactly to zero.\n"
   ]
  },
  {
   "cell_type": "markdown",
   "id": "ccce76c0",
   "metadata": {},
   "source": [
    "# ans 7->\n",
    "Lasso Regression can help in reducing the impact of multicollinearity to some extent by performing feature selection."
   ]
  },
  {
   "cell_type": "markdown",
   "id": "79d6a92c",
   "metadata": {},
   "source": [
    "# ans 8->\n",
    "To choose the optimal value of the regularization parameter (lambda) in Lasso Regression, you can use cross-validation techniques to evaluate the performance of the model on a validation set."
   ]
  },
  {
   "cell_type": "code",
   "execution_count": null,
   "id": "e5c7ce7a",
   "metadata": {},
   "outputs": [],
   "source": []
  }
 ],
 "metadata": {
  "kernelspec": {
   "display_name": "Python 3 (ipykernel)",
   "language": "python",
   "name": "python3"
  },
  "language_info": {
   "codemirror_mode": {
    "name": "ipython",
    "version": 3
   },
   "file_extension": ".py",
   "mimetype": "text/x-python",
   "name": "python",
   "nbconvert_exporter": "python",
   "pygments_lexer": "ipython3",
   "version": "3.9.13"
  }
 },
 "nbformat": 4,
 "nbformat_minor": 5
}
