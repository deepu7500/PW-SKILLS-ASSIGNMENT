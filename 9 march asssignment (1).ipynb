{
 "cells": [
  {
   "cell_type": "markdown",
   "id": "cd1dbecd",
   "metadata": {},
   "source": [
    "ans (1) -> pmf- the probabilty mass function is used to describe the distribution of discrete random variable.\n",
    "            example - (1) toss a coin\n",
    "              (2) choose a playing card \n",
    "               (3) rolling a die \n",
    "            pdf - the probability density function is used to describe the distribution of continuous random variable.\n",
    "               example - (1)age of people in family\n",
    "                   (2) marks of student in maths\n",
    "                   (3)weight of student in class\n",
    "                  "
   ]
  },
  {
   "cell_type": "code",
   "execution_count": null,
   "id": "eeaf7048",
   "metadata": {},
   "outputs": [],
   "source": [
    "ans(2)-> cdf- the comulative distribution function is also used to describe the distribution of discrete,continuous and mixed                 random variable.\n",
    "           in cdf the probability function that x will take a value less than or equal to x.\n",
    "           P(x)<=x\n",
    "           the cdf is a non-decreasing.          "
   ]
  },
  {
   "cell_type": "markdown",
   "id": "deac9a6d",
   "metadata": {},
   "source": [
    "ans(3)-> exampes of normal distribution (1) height of people (2) obataing marks in class (3) birthweight of babies born \n",
    "      (4) shoe size  (5) measurement of people blood pressure  (6) IQ of adults \n",
    "\n",
    "  the main parametres of normal disribution are the mean and standard deviation. the parametres determine the shape of \n",
    "  distribution. the shape of distribution changes as the parameter value changes.\n",
    "the shape of normal distribution is determined in the form bell curve.\n",
    "example--> the steeper the bell curve the smaller the standard deviation if the bell curve flatter the standard deviation is large\n"
   ]
  },
  {
   "cell_type": "markdown",
   "id": "ed936a2d",
   "metadata": {},
   "source": [
    "ans->4 Normal distribution is a type of continuous probablity distribution.it is importanr because many continuos data in\n",
    "nature and psychology display in the form of bell-shaped curve.it is also termed as gaussian distribution.\n",
    "normal distribution is symmetric\n",
    "examples are-> (1) height of student in class (2)weight of student in class (3) marks of student in class"
   ]
  },
  {
   "cell_type": "markdown",
   "id": "b97d86ed",
   "metadata": {},
   "source": [
    "ans->5  Bernoulli distribution- it is discrete distribution of random variable .it is a single success/failure of a experiment.\n",
    "       this distribution deals with one trial and two outcomes 0 and 1.\n",
    "      exmple - (1)if we toss a coin then the probability of gettin head is 0 and 1.\n",
    "               (2) probabilty of passing in exam \n",
    "    Binomial distribution - it is also a distribution of discrete random variable.it deals with more than one trial for single \n",
    "    experiment.it is used when outcome of an event is required multiple times.\n",
    "    example -  toass a coin 50 times "
   ]
  },
  {
   "cell_type": "markdown",
   "id": "33ec1a39",
   "metadata": {},
   "source": [
    "ans 6-> mean = 50 and s.d=10 and p(60>x)=?\n",
    "         for normaly distributed dataset we use xi-mean/s.d\n",
    "          here ,\n",
    "             p(60>x)=60-50/10=1\n",
    "        p-value of 1 according to z table = 0.1586\n",
    "        so probability=0.1586\n",
    "       \n"
   ]
  },
  {
   "cell_type": "markdown",
   "id": "2a7b7b41",
   "metadata": {},
   "source": [
    "ans 7-> the uniform distribution is a continous random variable distribution.in uniform distribution the probability of all\n",
    "        the outcome is symmetric.the expected value of uniform distriution given by the formula = (a+b)/2\n",
    "          a,b are two parameters.\n",
    "        example- (1) a deck of cards has within it uniform distributionbecause the likely hood o drawing each card is equilly likely.\n",
    "                 (2) toss a coin "
   ]
  },
  {
   "cell_type": "markdown",
   "id": "fdfaa089",
   "metadata": {},
   "source": [
    "ans 8-> z score- z score is a statical measurement that describes a value relationship\n",
    "        to the mean f a group of values.\n",
    "    \n",
    "   importance of z score-\n",
    "    \n",
    "   (1) z score describe how much a given value is different from the standard deviation. z score is also known as standard   \n",
    "        score.\n",
    "   (2)   z score or standard score is the number of s.d a given point lies above\n",
    "         or below mean.\n",
    "    (3) z score applied to the individual or population.\n",
    "   "
   ]
  },
  {
   "cell_type": "markdown",
   "id": "78bc451a",
   "metadata": {},
   "source": [
    "ans 9-> central limit theorem says that the sampling distribution of the mean will always be normally distributed,\n",
    "        as long as the sample size is large enough. it is a statistical thoery that states that- if you take a sufficiently\n",
    "        large sample size from a population with a finite level of variance,the mean of all samples from that population will\n",
    "        be roughly equal to the population mean.\n",
    "    \n",
    "  significance of the average of the sample mean and standarad deviation will equal the population meana and\n",
    "   standard deviation.\n",
    "        in clt,\n",
    "             population mean(U)= mean of the sample means(Ux)\n",
    "            standard deviation = signma/root(n)\n",
    "      "
   ]
  },
  {
   "cell_type": "markdown",
   "id": "41addf9a",
   "metadata": {},
   "source": [
    "ans 10->  the sample size must be equal to or more than 30 to see the effect of clt.and it need t be sampled at random.\n",
    "    assumptions of central limit theorem\n",
    "        (1) the sample should be unrelated to one another.one sample should not impact the others.\n",
    "        (2)when taking samples without replacement,the sample size should not exceed 10% of the population.\n",
    "        (3)the data must adhere to the randomization rule. it needs to be sampled at random."
   ]
  },
  {
   "cell_type": "code",
   "execution_count": null,
   "id": "817ca01d",
   "metadata": {},
   "outputs": [],
   "source": []
  }
 ],
 "metadata": {
  "kernelspec": {
   "display_name": "Python 3 (ipykernel)",
   "language": "python",
   "name": "python3"
  },
  "language_info": {
   "codemirror_mode": {
    "name": "ipython",
    "version": 3
   },
   "file_extension": ".py",
   "mimetype": "text/x-python",
   "name": "python",
   "nbconvert_exporter": "python",
   "pygments_lexer": "ipython3",
   "version": "3.9.13"
  }
 },
 "nbformat": 4,
 "nbformat_minor": 5
}
