{
 "cells": [
  {
   "cell_type": "markdown",
   "id": "353c9d88",
   "metadata": {},
   "source": [
    "# ans 1-\n",
    "Feature selection plays a crucial role in anomaly detection by aiding in the identification of relevant and significant attributes or features in a dataset. Anomaly detection involves identifying instances that deviate significantly from the norm or expected behavior. Feature selection helps in improving the efficiency and accuracy of anomaly detection algorithms.\n"
   ]
  },
  {
   "cell_type": "markdown",
   "id": "7e40aa8c",
   "metadata": {},
   "source": [
    "# ans 2-\n",
    "The most common metrics for anomaly detection are the classical precision and recall, computed by comparing the predicted and the ground truth outputs for each sample."
   ]
  },
  {
   "cell_type": "markdown",
   "id": "226e0d80",
   "metadata": {},
   "source": [
    "# ans 3-\n",
    "DBSCAN  is a popular density-based clustering algorithm used to discover clusters of data points in a dataset based on their density distribution. DBSCAN's ability to find clusters of varying shapes and handle noise makes it well-suited for datasets where clusters might have complex structures or different densities."
   ]
  },
  {
   "cell_type": "markdown",
   "id": "8d19bf45",
   "metadata": {},
   "source": [
    "# ans 4-\n",
    "The epsilon (ε) parameter in DBSCAN controls the radius within which the algorithm searches for neighboring points to determine the density of data points. It directly influences the performance of DBSCAN in detecting anomalies by affecting how clusters are formed and how noise points are identified. \n"
   ]
  },
  {
   "cell_type": "markdown",
   "id": "f5638035",
   "metadata": {},
   "source": [
    "# ans 5-\n",
    "Core points are at the center of clusters, as they have sufficient nearby neighbors to form a dense region.\n",
    "Border points are located on the outskirts of clusters and might only have a few neighbors.\n",
    "Noise points do not belong to any cluster and are typically considered anomalies or outliers."
   ]
  },
  {
   "cell_type": "markdown",
   "id": "d7c924dc",
   "metadata": {},
   "source": [
    "# ans 6-\n",
    "DBSCAN detects anomalies by identifying points that do not fit well within dense clusters or exhibit low local densities. \n",
    "DBSCAN requires only two parameters: epsilon and minPoints. Epsilon is the radius of the circle to be created around each data point to check the density and minPoints is the minimum number of data points required inside that circle for that data point to be classified as a Core point."
   ]
  },
  {
   "cell_type": "markdown",
   "id": "69e58c54",
   "metadata": {},
   "source": [
    "# ans -7\n",
    "The make_circles function in scikit-learn is used to generate a synthetic dataset containing points arranged in concentric circles. It often used for testing and illustrating algorithms that are capable of dealing with non-linearly separable data, as well as for demonstrating the limitations of certain linear classifiers.\n"
   ]
  },
  {
   "cell_type": "markdown",
   "id": "b5d7c4ca",
   "metadata": {},
   "source": [
    "# ans 8-\n",
    "There are two general types of outlier detection: global and local. Global outliers fall outside the normal range for an entire dataset, whereas local outliers may fall within the normal range for the entire dataset, but outside the normal range for the surrounding data points.\n",
    "    "
   ]
  },
  {
   "cell_type": "markdown",
   "id": "8c23bc3a",
   "metadata": {},
   "source": [
    "# ans 9-\n",
    "The Local Outlier Factor (LOF) algorithm is specifically designed to detect local outliers within a dataset. It assesses the density of data points in their local neighborhoods to determine how much a point deviates from its neighbors. LOF quantifies the extent to which a points\n",
    "local density differs from that of its neighbors, indicating its potential as a local outlier. "
   ]
  },
  {
   "cell_type": "markdown",
   "id": "ec46cdb3",
   "metadata": {},
   "source": [
    "# ans 10-\n",
    "The Isolation Forest algorithm is well-suited for detecting global outliers, which are data points that deviate significantly from the overall distribution of the dataset. The algorithm operates by creating a random forest of isolation trees, which separate anomalies (outliers) more efficiently than inliers (normal points). \n"
   ]
  },
  {
   "cell_type": "code",
   "execution_count": null,
   "id": "9ec3e56c",
   "metadata": {},
   "outputs": [],
   "source": []
  }
 ],
 "metadata": {
  "kernelspec": {
   "display_name": "Python 3 (ipykernel)",
   "language": "python",
   "name": "python3"
  },
  "language_info": {
   "codemirror_mode": {
    "name": "ipython",
    "version": 3
   },
   "file_extension": ".py",
   "mimetype": "text/x-python",
   "name": "python",
   "nbconvert_exporter": "python",
   "pygments_lexer": "ipython3",
   "version": "3.9.13"
  }
 },
 "nbformat": 4,
 "nbformat_minor": 5
}
