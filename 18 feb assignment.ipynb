{
 "cells": [
  {
   "cell_type": "markdown",
   "id": "0bbb375f",
   "metadata": {},
   "source": [
    "ans 1-> API stands for application programming interace.it is a generic concept.it can be made with different\n",
    "protocals like -tco/ip,httpetc.api is way of comminucation with different system.every online application work on api.\n",
    "In every apps like google map,twitter bots,paytm,phonepay,amazon etc. api is used."
   ]
  },
  {
   "cell_type": "code",
   "execution_count": null,
   "id": "6ecce78a",
   "metadata": {},
   "outputs": [],
   "source": [
    "ans 2-> ADVANTAGES OF API\n",
    "Efficiency: \n",
    "    API produces efficient, quicker, and more reliable results than the outputs produced by \n",
    "       human beings in an organization.\n",
    "Flexiblity :\n",
    "    API provides fast and flexible delivery of services according to developers’ requirements.\n",
    "Automation: \n",
    "    As API makes use of robotic computers rather than humans, it produces better and more automated results.\n",
    "New functionality: \n",
    "    While using API the developers find new tools and functionality for API exchanges.\n",
    "    DISADVANATAGES OF API\n",
    "Cost: \n",
    "    Developing and implementing API is costly at times and requires high maintenance and support from developers.\n",
    "Security issues: Using API adds another layer of surface which is then prone to attacks, and hence the security\n",
    "    risk problem is common in APIs."
   ]
  },
  {
   "cell_type": "markdown",
   "id": "87b55215",
   "metadata": {},
   "source": [
    "ans 3-> WebAPI stands for web application programing interface.Web api help to authenticate.\n",
    "    web api used by gmail application,google,etc.in case of login we use web api.\n",
    "\n",
    "difference b/w API WebAPI\n",
    "\n",
    "Web API-\n",
    "All web serivices are api. \n",
    "It support xml.\n",
    "web service use three styles: REST,SOAP and XML-RPC for communication.\n",
    "It provides supports  only for the HTTP proctocol.  \n",
    "\n",
    "API-\n",
    "All api are not web services.\n",
    "API has a light-weight architecture.\n",
    "It provide support for the http procyocal:url request,headers,etc.\n",
    "It can used by client who understand JSON or XML.\n"
   ]
  },
  {
   "cell_type": "code",
   "execution_count": null,
   "id": "42de7511",
   "metadata": {},
   "outputs": [],
   "source": [
    "ans 4-> The REST architectural style defines six guiding constraints. When these constraints are applied to the system\n",
    "architecture, it gains desirable non-functional properties, such as performance,scalability, simplicity, modifiability,\n",
    "visibility, portability, and reliability.\n",
    "Web services which follow the REST architectural style are known as RESTful web services. \n",
    " It allows requesting systems to access and manipulate web resources by using a uniform and predefined set of rules\n",
    "    \n",
    "    The SOAP web services architecture is based on interactions between three components: a service provider, \n",
    "    a service requester, and an optional service registry.SOAP is an integral part of the service-oriented \n",
    "    architecture ( SOA) and the web services specifications\n",
    "    \n",
    "Some of the disadvantages of SOAP protocol are:\n",
    "Only XML can be used, JSON and other lightweight formats are not supported.\n",
    "   SOAP is based on the contract, so there is a tight coupling between client and server applications.\n",
    "    SOAP is slow because payload is large for a simple string message, since it uses XML format.    "
   ]
  },
  {
   "cell_type": "markdown",
   "id": "7a48e414",
   "metadata": {},
   "source": [
    "ans 5->REST - rest stands for Representational State Transfer and it is based on HTTP.\n",
    "It is an architectural pattern for creating web services.\n",
    "Rest is not  secure as compare to soap.\n",
    "REST communication through PUT,GET,POST and REST.\n",
    " \n",
    "SOAP - soap stands for simple object access protocol and it is based on XML\n",
    "It is a network plateform used in we serivices to exchange or communication data b/w\n",
    "two different machines on a network.\n",
    "Soap is more secure.\n",
    "Soap support - HTTP,SMTP,TCP etc."
   ]
  }
 ],
 "metadata": {
  "kernelspec": {
   "display_name": "Python 3 (ipykernel)",
   "language": "python",
   "name": "python3"
  },
  "language_info": {
   "codemirror_mode": {
    "name": "ipython",
    "version": 3
   },
   "file_extension": ".py",
   "mimetype": "text/x-python",
   "name": "python",
   "nbconvert_exporter": "python",
   "pygments_lexer": "ipython3",
   "version": "3.9.13"
  }
 },
 "nbformat": 4,
 "nbformat_minor": 5
}
