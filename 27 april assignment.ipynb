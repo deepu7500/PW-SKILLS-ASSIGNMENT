{
 "cells": [
  {
   "cell_type": "markdown",
   "id": "e25e057d",
   "metadata": {},
   "source": [
    "# ans 1\n",
    "there are three types of clustering algorithms -\n",
    "* k means clustering\n",
    "\n",
    "Approach: It divides data points into 'K' clusters, where 'K' is a predefined number. It assigns data points to the cluster whose centroid (mean) is closest to the data point.\n",
    "\n",
    "Assumptions: Assumes clusters are spherical and equally sized, and works well with numerical data.\n",
    "    \n",
    "* heirichail clustering\n",
    "\n",
    "Approach: Builds a hierarchy of clusters by either starting with individual data points and merging them step by step (agglomerative) or starting with all data points in one cluster and dividing them step by step (divisive).\n",
    "\n",
    "Assumptions: Does not assume a fixed number of clusters, can work with different distance metrics, and results in a dendrogram representing the clustering process.\n",
    "    \n",
    "* DBSCAN clustering\n",
    "\n",
    "Approach: It defines clusters as dense regions of data points separated by less dense regions. It can discover clusters of arbitrary shapes and identifies noise points.\n",
    "\n",
    "Assumptions: Assumes that clusters have higher density than non-cluster areas and can handle noise and outliers effectively.\n",
    "    \n",
    "\n",
    "\n"
   ]
  },
  {
   "cell_type": "markdown",
   "id": "6c737104",
   "metadata": {},
   "source": [
    " # ans 2-\n",
    "K-Means clustering is a widely used partitioning clustering algorithm that aims to divide a dataset into a pre-defined number of clusters. \n",
    "\n",
    "k means clustering work as-\n",
    "* initialize some centroids as \"k\".\n",
    "* points that are nearest to the centroids.\n",
    "* move the centroids to closest to more data points.\n",
    "* repeat this step again untill maximun number of iteration is reached.\n",
    "* at last a soln is reached where data points grouped into clusters.\n",
    "\n",
    "\n",
    "\n",
    "\n",
    "\n"
   ]
  },
  {
   "cell_type": "markdown",
   "id": "492e0412",
   "metadata": {},
   "source": [
    " # ans 3 -\n",
    "    advantages of k mean clustering-\n",
    "    * faster speed\n",
    "    * more scalar as compared to other data sets\n",
    "    * handle huge and high dimensional datasets\n",
    "    * less expensive\n",
    "    limitation\n",
    "    * sensitive to intial choice\n",
    "    * not handle categorical data\n",
    "    * outlier afftet centroid placement and laed to less accurate result.\n",
    "    "
   ]
  },
  {
   "cell_type": "markdown",
   "id": "82b59bd4",
   "metadata": {},
   "source": [
    "# ans 4-\n",
    "methods for determining optimal number of clustering are-\n",
    "* elbow method\n",
    "\n",
    "In this method, you plot the within-cluster sum of squares (WCSS) as a function of the number of clusters. WCSS represents the sum of squared distances between data points and their assigned cluster centroids.\n",
    "Look for the \"elbow point\" on the plot, where the rate of decrease sharply changes.\n",
    "The number of clusters at the elbow point can be considered as a good estimate for 'K'.\n",
    "\n",
    "* silhoutte score\n",
    "The silhouette score measures how similar an object is to its own cluster (cohesion) compared to other clusters (separation).\n",
    "A higher silhouette score indicates better-defined clusters."
   ]
  },
  {
   "cell_type": "markdown",
   "id": "b8db5653",
   "metadata": {},
   "source": [
    "# ans 5-\n",
    "K-Means clustering has a wide range of applications across various fields due to its simplicity, efficiency, and ability to uncover patterns in data.\n",
    "\n",
    "some applications are-\n",
    "\n",
    "1.K-Means has been applied to cluster genes or proteins with similar expression patterns in bioinformatics.\n",
    "It aids in identifying gene functions, understanding disease pathways, and predicting protein interactions\n",
    "\n",
    "2.Climatologists use K-Means to cluster weather patterns based on temperature, humidity, and other variables.\n",
    "This helps in identifying different climate regimes and understanding long-term trends.\n",
    "\n",
    "3.Retailers use K-Means to analyze transaction data and identify groups of products that are frequently purchased together.\n",
    "This leads to strategies like product placement optimization and cross-selling.\n",
    "\n",
    "4.K-Means can be used to cluster similar documents or articles based on their content.\n",
    "News websites might use it to group articles into topics for easier navigation.\n",
    "\n",
    "5.Businesses use K-Means to group customers based on their purchasing behavior, preferences, demographics, and other factors."
   ]
  },
  {
   "cell_type": "markdown",
   "id": "3cb322d4",
   "metadata": {},
   "source": [
    "# ans 6-\n",
    "Interpreting the output of a K-Means clustering algorithm involves understanding the characteristics of each cluster and extracting meaningful insights from the groupings. \n",
    "\n",
    " we interpreat the output of cluster as-\n",
    "    * analyse the mean of cluster\n",
    "    * calculate wcss or other appropriate metrics for each cluster.\n",
    "    * analyse the size of cluster\n",
    "    * use of scatter plot or histograms\n",
    "    * analyse the features that differenciate one cluster from another."
   ]
  },
  {
   "cell_type": "markdown",
   "id": "b21f99d3",
   "metadata": {},
   "source": [
    "# ans 7-\n",
    "challenges come during implementing k means clustering are-\n",
    "* choosing right number of clusters e.i, k value  it can address using elbow methode or silhoutte score\n",
    "* feature scalling or choosing of features we use scale or normalize feature to emsure that each feature comtribute equally\n",
    "* high dimensional data or high dimeninality we use PCA TO REDUCE dimesions.\n",
    "* categorical data cannot be handle by kmean so one hot encoding is applied or another algorithm can be used.\n"
   ]
  },
  {
   "cell_type": "code",
   "execution_count": null,
   "id": "75628ad0",
   "metadata": {},
   "outputs": [],
   "source": []
  }
 ],
 "metadata": {
  "kernelspec": {
   "display_name": "Python 3 (ipykernel)",
   "language": "python",
   "name": "python3"
  },
  "language_info": {
   "codemirror_mode": {
    "name": "ipython",
    "version": 3
   },
   "file_extension": ".py",
   "mimetype": "text/x-python",
   "name": "python",
   "nbconvert_exporter": "python",
   "pygments_lexer": "ipython3",
   "version": "3.9.13"
  }
 },
 "nbformat": 4,
 "nbformat_minor": 5
}
