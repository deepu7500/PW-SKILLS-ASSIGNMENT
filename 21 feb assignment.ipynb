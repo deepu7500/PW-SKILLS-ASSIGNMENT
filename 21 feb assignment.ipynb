{
 "cells": [
  {
   "cell_type": "markdown",
   "id": "2a25cccc",
   "metadata": {},
   "source": [
    "abs 1-> web scrapping is used to take tha data from websites.python is most popular language used for web scrapping beacuse it \n",
    "support many libraries.Web Scraping can be used by companies to scrap the product data for their products and \n",
    "competing products as well.\n",
    "\n",
    "AREAS WHERE WEBS SCRAPING IS USED\n",
    "1.Price Monitoring\n",
    "Companies can use this data to fix the optimal pricing for their products so that they can obtain maximum revenue.\n",
    "\n",
    "2.News Monitoring\n",
    "Web scraping news sites can provide detailed reports on the current news to a company. This is even more \n",
    "essential for companies that are frequently in the news or that depend on daily news for their day-to-day functioning.\n",
    "\n",
    "3.Email Marketing\n",
    "Companies can also use Web scraping for email marketing. They can collect Email ID’s from various sites using \n",
    "web scraping and then send bulk promotional and marketing Emails to all the people owning these Email ID’s.\n",
    "\n"
   ]
  },
  {
   "cell_type": "markdown",
   "id": "49d7b54a",
   "metadata": {},
   "source": [
    "ans 2->There are several methods used for web scraping, including:\n",
    "\n",
    "Using web scraping tools: Several web scraping tools like BeautifulSoup, Scrapy, and Selenium can be used to extract\n",
    "data from websites.\n",
    "Writing custom scripts: Developers can write custom scripts in programming languages like Python, PHP, and Java \n",
    "to extract data from websites.\n",
    "API calls: Some websites provide APIs (Application Programming Interfaces) that can be used to extract data from them.\n",
    "This method is more reliable and efficient than web scraping, as it is authorized and often more structured.\n",
    "Reverse engineering: In some cases, developers can reverse engineer the website's source code to extract data.\n",
    "This is a less recommended approach, as it might breach the website's terms of service.\n",
    "\n"
   ]
  },
  {
   "cell_type": "markdown",
   "id": "c2c07d65",
   "metadata": {},
   "source": [
    "ans 3->Beautiful Soup is a Python library that makes it easy to scrape information from web pages.\n",
    "Beautiful Soup provides simple methods for navigating, searching, and modifying a parse tree.\n",
    "It is used to pull out the data out of xml and html which is used to web scraping."
   ]
  },
  {
   "cell_type": "markdown",
   "id": "384a214b",
   "metadata": {},
   "source": [
    "ans 4->Flask is a popular Python web framework that is commonly used to develop web applications and APIs. Flask is \n",
    "lightweight and easy to use, making it a good choice for small to medium-sized projects.\n",
    "In a web scraping project, Flask can be used to develop a web application or API that exposes the scraped data \n",
    "to end-users. This allows users to easily interact with the data and perform queries or analysis on it.\n",
    "Flask provides a range of useful features such as routing, error handling, and request parsing.\n",
    "\n"
   ]
  },
  {
   "cell_type": "markdown",
   "id": "2edcb6b5",
   "metadata": {},
   "source": [
    "ans 5->\n",
    "aws sevices used in project are-\n",
    "(1)Beanstack\n",
    "(2)code pipeline"
   ]
  }
 ],
 "metadata": {
  "kernelspec": {
   "display_name": "Python 3 (ipykernel)",
   "language": "python",
   "name": "python3"
  },
  "language_info": {
   "codemirror_mode": {
    "name": "ipython",
    "version": 3
   },
   "file_extension": ".py",
   "mimetype": "text/x-python",
   "name": "python",
   "nbconvert_exporter": "python",
   "pygments_lexer": "ipython3",
   "version": "3.9.13"
  }
 },
 "nbformat": 4,
 "nbformat_minor": 5
}
