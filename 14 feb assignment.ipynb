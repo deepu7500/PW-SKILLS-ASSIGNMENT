{
 "cells": [
  {
   "cell_type": "markdown",
   "id": "ca32a749",
   "metadata": {},
   "source": [
    "ans 1->\n",
    "Multithreading in Python is a programming technique that allows multiple threads\n",
    "(smaller sub-processes of a larger program) to run concurrently within a single process.\n",
    "\n",
    "Multithreading is used to break down the complex task into different parts and them run them simulatniously.\n",
    "This improve speed,performance and time consumption.\n",
    " Threading module is used to handle the thread in python."
   ]
  },
  {
   "cell_type": "markdown",
   "id": "5b4ec36e",
   "metadata": {},
   "source": [
    "ans 2-> The threading module in Python is used to create and manage threads in a program.\n",
    " Threads allow for concurrent execution of code, which can help improve the performance of a program by allowing it \n",
    "to execute multiple tasks simultaneously.\n",
    "\n",
    "activeCount(): This method returns the number of Thread objects that are currently active in the\n",
    "    current Python interpreter. An active thread is a thread that has been started but has not yet\n",
    "    finished.\n",
    "\n",
    "currentThread(): This method returns a Thread object representing the current thread of control. \n",
    " \n",
    " enumerate(): This method returns a list of all Thread objects that are currently active in the \n",
    "    current Python interpreter. This can be useful for getting information about all the threads in a program.\n",
    "    "
   ]
  },
  {
   "cell_type": "markdown",
   "id": "5c3d9085",
   "metadata": {},
   "source": [
    "ans 3->\n",
    "run() − The run() method is the entry point for a thread.\n",
    "start() − The start() method starts a thread by calling the run method. \n",
    "join() − The join() waits for threads to terminate.\n",
    "isAlive() − The isAlive() method checks whether a thread is still executing."
   ]
  },
  {
   "cell_type": "code",
   "execution_count": 4,
   "id": "ea66b1e0",
   "metadata": {},
   "outputs": [],
   "source": [
    "# ans 4->\n",
    "import threading\n",
    "def thread1(i):\n",
    "    for i  in range(10):\n",
    "        print(\"square of  %d is %d\"%(i,i*i))\n",
    "        \n",
    "def thread2(i):\n",
    "    for i  in range(10):\n",
    "        print(\"cube of  %d is %d\"%(i,i*i))"
   ]
  },
  {
   "cell_type": "code",
   "execution_count": 5,
   "id": "f099017b",
   "metadata": {},
   "outputs": [
    {
     "name": "stdout",
     "output_type": "stream",
     "text": [
      "square of  0 is 0\n",
      "square of  1 is 1\n",
      "square of  2 is 4\n",
      "square of  3 is 9\n",
      "square of  4 is 16\n",
      "square of  5 is 25\n",
      "square of  6 is 36\n",
      "square of  7 is 49\n",
      "square of  8 is 64\n",
      "square of  9 is 81\n",
      "cube of  0 is 0\n",
      "cube of  1 is 1\n",
      "cube of  2 is 4\n",
      "cube of  3 is 9\n",
      "cube of  4 is 16\n",
      "cube of  5 is 25\n",
      "cube of  6 is 36\n",
      "cube of  7 is 49\n",
      "cube of  8 is 64\n",
      "cube of  9 is 81\n"
     ]
    }
   ],
   "source": [
    "thread1(1)\n",
    "thread2(1)"
   ]
  },
  {
   "cell_type": "markdown",
   "id": "a9678928",
   "metadata": {},
   "source": [
    "ans 5-> Advantage of multithreading\n",
    "\n",
    "1.Multithreading can improve the efficiency of a program by allowing different parts of the program to run concurrently.\n",
    "2.Multithreading allows multiple threads to use the same memory and other resources simultaneously, \n",
    "which can help to reduce memory usage and improve overall performance.\n",
    "3.Multithreading can help to improve the responsiveness of a program, as it allows for faster response .\n",
    "\n",
    "Disadvantages of multi threading\n",
    "\n",
    "1.Multithreaded programming can be complex and difficult to debug.\n",
    "2.Multithreading can lead to increased resource usage, as multiple threads may need to share the same memory \n",
    "and other system resources.\n",
    "3.Multithreading requires a significant amount of skill and experience to program effectively."
   ]
  },
  {
   "cell_type": "code",
   "execution_count": null,
   "id": "26954f05",
   "metadata": {},
   "outputs": [],
   "source": [
    "ans 6-> A deadlock occurs when two or more processes or threads are blocked, waiting for each other\n",
    "to release resources that they need in order to continue execution.\n",
    "\n",
    "A race condition occurs when two or more processes or threads are attempting to access a shared resource simultaneously.\n",
    " For example, if two threads are attempting to increment the same variable."
   ]
  }
 ],
 "metadata": {
  "kernelspec": {
   "display_name": "Python 3 (ipykernel)",
   "language": "python",
   "name": "python3"
  },
  "language_info": {
   "codemirror_mode": {
    "name": "ipython",
    "version": 3
   },
   "file_extension": ".py",
   "mimetype": "text/x-python",
   "name": "python",
   "nbconvert_exporter": "python",
   "pygments_lexer": "ipython3",
   "version": "3.9.13"
  }
 },
 "nbformat": 4,
 "nbformat_minor": 5
}
