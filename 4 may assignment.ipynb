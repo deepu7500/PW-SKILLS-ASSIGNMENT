{
 "cells": [
  {
   "cell_type": "markdown",
   "id": "6e4921eb",
   "metadata": {},
   "source": [
    "# ans 1-\n",
    "A time series is a sequence of data points collected and recorded over a specific time interval. Each data point in a time series is associated with a particular timestamp or time period. \n",
    "Time series analysis involves the exploration, modeling, and interpretation of time-dependent data to identify patterns, trends, seasonality, and other temporal characteristics. \n",
    " \n",
    " applications are-\n",
    "* Economics and Finance\n",
    "* Healthcare\n",
    "* Climate and Environmental Science\n",
    "* Manufacturing and Quality Control\n",
    "* Cybersecurity"
   ]
  },
  {
   "cell_type": "markdown",
   "id": "613a1775",
   "metadata": {},
   "source": [
    "# ans 2-\n",
    "common time series pattern are-\n",
    "* trend\n",
    "* seasonal\n",
    "* noise\n",
    "* cyclic pattern\n"
   ]
  },
  {
   "cell_type": "markdown",
   "id": "8c0bd368",
   "metadata": {},
   "source": [
    "# ans 3-\n",
    "Time series data is preprocessed by finding missing values,outliers and resampling,normalizing,smoothing,encoding  the \n",
    "data.preprocessing is used to transform the raw data into into clean informative format.\n"
   ]
  },
  {
   "cell_type": "markdown",
   "id": "244d962b",
   "metadata": {},
   "source": [
    "# ans 4-\n",
    "Time series forecasting plays a critical role in business decision-making by providing insights into future trends, allowing companies to plan and allocate resources more effectively.\n",
    "\n",
    "time series forcasting come with several challenges like-\n",
    "* overfitting of new data\n",
    "* right forecasting for models\n",
    "* incomplete,noisy,and erraneous data"
   ]
  },
  {
   "cell_type": "markdown",
   "id": "3ce7753b",
   "metadata": {},
   "source": [
    "# ans 4-\n",
    "ARIMA is a popular time series forecasting model that combines autoregressive (AR) and moving average (MA) components along with differencing (I) to handle non-stationary data.\n",
    "\n",
    "ARIMA models are widely used for forecasting time series data by capturing underlying patterns, trends, and seasonality.\n"
   ]
  },
  {
   "cell_type": "markdown",
   "id": "7f5da594",
   "metadata": {},
   "source": [
    "# ans 5-\n",
    "ARIMA stands for Autoregressive Integrated Moving Average. It is a statistical method used for time series forecasting. ARIMA models are widely used in various fields, including economics, finance, epidemiology, and more, to predict future values of a time series based on its past observations.\n",
    "\n",
    "ARIMA for time series forecasting includes the following steps-\n",
    "* data preparation\n",
    "* stationarity\n",
    "* model selection\n",
    "* model fittting\n",
    "* model evaluation\n",
    "* forecasting\n",
    "Autoregressive (AR) Component: The autoregressive component models the relationship between the current value of the time series and its past values. \n",
    "\n",
    "Integrated (I) Component: The integrated component refers to differencing the time series to make it stationary.\n",
    "\n",
    "Moving Average (MA) Component: The moving average component models the relationship between the current value of the time series and past forecast errors (the difference between predicted and actual values)."
   ]
  },
  {
   "cell_type": "markdown",
   "id": "c9bf59a0",
   "metadata": {},
   "source": [
    "# ans 7-\n",
    "Assumptions in ARIMA\n",
    "* Stationarity-\n",
    "ARIMA models assume that the time series is stationary, which means that the statistical properties of the data (such as mean and variance) do not change over time\n",
    "\n",
    "* No Seasonality-\n",
    "ARIMA models assume that the time series does not have a significant seasonal component.\n",
    "    \n",
    "* No Autocorrelation in Residuals-\n",
    "The residuals (the differences between observed and predicted values) of the ARIMA model should be uncorrelated.\n",
    "    \n",
    "* Constant Variance: The variance of the residuals should be roughly constant over time.\n",
    "    "
   ]
  },
  {
   "cell_type": "markdown",
   "id": "34aa1614",
   "metadata": {},
   "source": [
    "# ans 8-\n",
    "i would recommend seasonal model because sales is well predicted though seasons because people purchase according to seasons.\n"
   ]
  },
  {
   "cell_type": "markdown",
   "id": "65478c9e",
   "metadata": {},
   "source": [
    "# ans 9 -\n",
    "Time series analysis is a powerful technique for understanding and forecasting sequential data.\n",
    "some limitations of time series analysis are-\n",
    "* Sensitive to Outliers and Anomalies\n",
    "* Complexity of Real-world Data\n",
    "* Many time series models assume stationarity, but real-world data often exhibits trends, seasonality, and structural breaks that violate this assumption.\n",
    "* Accurate and consistent data is essential for meaningful time series analysis.\n",
    "* Complex time series models can overfit the noise in the data, resulting in poor out-of-sample performance and misleading forecasts."
   ]
  },
  {
   "cell_type": "markdown",
   "id": "e8d6c445",
   "metadata": {},
   "source": [
    "# ans 10-\n",
    "A stationary time series has a constant variance and it always returns to the long-run mean. A time series whose statistical properties change over time is called a non-stationary time series.\n",
    "\n",
    "the stationarity of a time series affects the choice of forecasting model. Stationary data allows for more straightforward modeling and more reliable forecasts using techniques like ARIMA, while non-stationary data often requires transformations or more advanced models to account for changing trends and seasonality."
   ]
  },
  {
   "cell_type": "code",
   "execution_count": null,
   "id": "44cc54ce",
   "metadata": {},
   "outputs": [],
   "source": []
  }
 ],
 "metadata": {
  "kernelspec": {
   "display_name": "Python 3 (ipykernel)",
   "language": "python",
   "name": "python3"
  },
  "language_info": {
   "codemirror_mode": {
    "name": "ipython",
    "version": 3
   },
   "file_extension": ".py",
   "mimetype": "text/x-python",
   "name": "python",
   "nbconvert_exporter": "python",
   "pygments_lexer": "ipython3",
   "version": "3.11.4"
  }
 },
 "nbformat": 4,
 "nbformat_minor": 5
}
