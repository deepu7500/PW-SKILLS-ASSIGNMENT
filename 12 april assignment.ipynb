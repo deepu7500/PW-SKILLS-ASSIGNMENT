{
 "cells": [
  {
   "cell_type": "markdown",
   "id": "07aca071",
   "metadata": {},
   "source": [
    "# ans 1-\n",
    "Bagging  is an ensemble learning technique that aims to reduce overfitting in decision trees  by creating multiple diverse models and combining their predictions. It is particularly effective when applied to decision trees due to their susceptibility to overfitting, especially when they are deep and complex."
   ]
  },
  {
   "cell_type": "markdown",
   "id": "6f9e353d",
   "metadata": {},
   "source": [
    "# ans 2-\n",
    " The choice of base learners can significantly impact the performance and behavior of the bagging ensemble. \n",
    " Advantage\n",
    "* Diversity of Base Learners\n",
    "* Improved Generalization\n",
    "* Stability\n",
    "* Model Intrepretibility\n",
    "\n",
    "Disadvanatge\n",
    "* Computation Ovehead\n",
    "* Bias\n",
    "* Memory Consumotion\n",
    "* inefficency for some learners"
   ]
  },
  {
   "cell_type": "markdown",
   "id": "5df109c3",
   "metadata": {},
   "source": [
    "ans 3 -\n",
    "The bias-variance tradeoff refers to the balance between the bias and variance of a predictive mode.\n",
    "A low-bias base learner, such as a complex model can capture complex patterns in the training data.\n",
    "A high-bias base learner, such as a simple model might not be expressive enough to capture complex patterns in the data. \n",
    " base learners with high bias  may lead to underfitting and have tendency to overfit the data."
   ]
  },
  {
   "cell_type": "markdown",
   "id": "25f171f9",
   "metadata": {},
   "source": [
    "ans 4- Yes, bagging can be used for both classification and regression tasks.\n",
    "\n",
    "  In classification , the base learners used in bagging are  decision trees, random forests, or support vector machines.\n",
    "Bagging employs majority voting to determine the final prediction.\n",
    " \n",
    "  In regression, the base learners used in bagging are  linear regression, decision trees, or support vector regression.\n",
    "Bagging uses averaging  to obtain the final prediction.\n",
    " "
   ]
  },
  {
   "cell_type": "markdown",
   "id": "29631d57",
   "metadata": {},
   "source": [
    "ans 5 ->\n",
    "The role of the ensemble size is essential in determining the performance and behavior of the bagging approach. Selecting an appropriate ensemble size is crucial to achieve the optimal balance between performance improvement and computational efficiency.\n",
    "\n",
    " the ideal number of models in an ensemble depends on multiple factors, and there is no fixed formula to determine it. The choice should be guided by empirical experimentation, cross-validation, and a thorough understanding of the data and problem domain\n"
   ]
  },
  {
   "cell_type": "code",
   "execution_count": null,
   "id": "d22ade44",
   "metadata": {},
   "outputs": [],
   "source": []
  }
 ],
 "metadata": {
  "kernelspec": {
   "display_name": "Python 3 (ipykernel)",
   "language": "python",
   "name": "python3"
  },
  "language_info": {
   "codemirror_mode": {
    "name": "ipython",
    "version": 3
   },
   "file_extension": ".py",
   "mimetype": "text/x-python",
   "name": "python",
   "nbconvert_exporter": "python",
   "pygments_lexer": "ipython3",
   "version": "3.9.13"
  }
 },
 "nbformat": 4,
 "nbformat_minor": 5
}
