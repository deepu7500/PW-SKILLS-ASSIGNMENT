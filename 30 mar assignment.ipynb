{
 "cells": [
  {
   "cell_type": "markdown",
   "id": "688784bd",
   "metadata": {},
   "source": [
    "# ans 1->\n",
    "elastic regression is a combination of both ridge and lasso regression\n",
    "here, the cost function is the sum of MSE AND l1 and L2 penalty term\n",
    "L1 penalty term adds the absolute value of coefficients and L2 penalty\n",
    "term adds the squared value of coefficients to cost func."
   ]
  },
  {
   "cell_type": "markdown",
   "id": "95be5fc4",
   "metadata": {},
   "source": [
    "# ans 2->\n",
    "Hyperperameter tuning is a technqiue used for to choose optimal value of the regularization\n",
    "parameter for elastic net regression.\n",
    "Hyperparameter tuning is the process of systematically searching for the best combination of hyperparameters for a machine learning algorithm.\n"
   ]
  },
  {
   "cell_type": "markdown",
   "id": "5dfdbb45",
   "metadata": {},
   "source": [
    "# ans 3->\n",
    "adavantages\n",
    "as elastic net regression is combination of both l1 and l2 so it has\n",
    "advanatages of both\n",
    "* feature selection - it select important features.\n",
    "* handles multicolinearty- reduce the multicollinearty by shrinking coefficent\n",
    "* reducing outliers\n",
    "\n",
    "disadvantages\n",
    "\n",
    "* as it is senstive to ouliers it give different importance for different features\n",
    "and can drop some important feature.\n",
    "* two hyperparameters are introduced which add complexity to model training."
   ]
  },
  {
   "cell_type": "markdown",
   "id": "aa09676d",
   "metadata": {},
   "source": [
    "# ans 4->\n",
    "due to high flexibility in handling high-dimensional data and balancing many feature \n",
    "elastic net regression used in wide range of domain where regression analysis required.\n",
    "some of common uses are- \n",
    "* finance and economics\n",
    "* marketing analysis\n",
    "* predictive modelling"
   ]
  },
  {
   "cell_type": "markdown",
   "id": "a22b3ebe",
   "metadata": {},
   "source": [
    "# ans 5->\n",
    "The coefficients of elastic net regression represent the linear relationship between the features and the target variable, adjusted by the regularization terms. \n",
    "The larger the absolute value of a coefficient, the stronger the effect of the corresponding feature on the target variable.\n"
   ]
  },
  {
   "cell_type": "markdown",
   "id": "208a12f4",
   "metadata": {},
   "source": [
    "# ans 6->\n",
    "cross validation method is used to determine the method for handling missing value\n",
    "we can handle missing values in elastic net regression by following values -\n",
    "\n",
    "* imputation \n",
    "* complete analysis\n",
    "* indicator variable\n"
   ]
  },
  {
   "cell_type": "markdown",
   "id": "b811dba4",
   "metadata": {},
   "source": [
    "# ans 7->\n",
    "we can use elastic net regression for feature selection due to variable slection and some of the following\n",
    "ways for feature selection are -\n",
    "* analyse the coefficients\n",
    "* identify importatnt features\n",
    " "
   ]
  },
  {
   "cell_type": "markdown",
   "id": "2d0172b3",
   "metadata": {},
   "source": [
    "# ans 8->\n",
    "to pickle and unpickle the model we import pickle libraray and use pickle.dump function\n",
    "to serialize the model.\n",
    "and to deserialize the model we use pickle.load function."
   ]
  },
  {
   "cell_type": "markdown",
   "id": "55e6297e",
   "metadata": {},
   "source": [
    "# ans 9->\n",
    "pickling is used to save model and tranform complex model data to byte form\n",
    "which can restructured again and also can edit."
   ]
  },
  {
   "cell_type": "code",
   "execution_count": null,
   "id": "2e384632",
   "metadata": {},
   "outputs": [],
   "source": []
  }
 ],
 "metadata": {
  "kernelspec": {
   "display_name": "Python 3 (ipykernel)",
   "language": "python",
   "name": "python3"
  },
  "language_info": {
   "codemirror_mode": {
    "name": "ipython",
    "version": 3
   },
   "file_extension": ".py",
   "mimetype": "text/x-python",
   "name": "python",
   "nbconvert_exporter": "python",
   "pygments_lexer": "ipython3",
   "version": "3.9.13"
  }
 },
 "nbformat": 4,
 "nbformat_minor": 5
}
