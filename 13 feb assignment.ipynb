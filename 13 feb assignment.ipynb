{
 "cells": [
  {
   "cell_type": "code",
   "execution_count": null,
   "id": "8e2fffa1",
   "metadata": {},
   "outputs": [],
   "source": [
    "ans 1-> In Python, exceptions are used to signal errors or exceptional conditions that occur during the execution of a program.\n",
    "to create a custom exception in Python, you need to define a new class\n",
    "that inherits from the built-in Exception class or one of its \n",
    "subclasses. This is because the Exception class provides a \n",
    "standard interface and behavior for all exceptions in Python. "
   ]
  },
  {
   "cell_type": "code",
   "execution_count": null,
   "id": "5beb25dd",
   "metadata": {},
   "outputs": [],
   "source": [
    "ans 3->In Python, the ArithmeticError class is the base class for all  arithmetic-related errors. This class is a subclass\n",
    "of the built-in Exception class and is raised when an error occurs while performing\n",
    "arithmetic operations.\n",
    "\n",
    "Here are two common errors that are defined in the ArithmeticError \n",
    "class:\n",
    "\n",
    "ZeroDivisionError: This error is raised when a division operation\n",
    "    is performed where the denominator is zero. \n",
    "OverflowError: This error is raised when a calculation exceeds \n",
    "    the maximum representable value   "
   ]
  },
  {
   "cell_type": "code",
   "execution_count": null,
   "id": "2fa57dde",
   "metadata": {},
   "outputs": [],
   "source": []
  },
  {
   "cell_type": "code",
   "execution_count": null,
   "id": "b02ae09c",
   "metadata": {},
   "outputs": [],
   "source": [
    "ans 4->The LookupError class is a base class for exception classes that are raised when a lookup operation fails,\n",
    "such as when accessing an item in a sequence or a dictionary. It is a subclass of the built-in Exception class \n",
    "and is itself a superclass of the IndexError and KeyError classes.\n",
    "\n",
    "Here are two common errors that are subclasses of LookupError:\n",
    "\n",
    "KeyError: This error is raised when a dictionary key is not found in the dictionary"
   ]
  },
  {
   "cell_type": "code",
   "execution_count": 7,
   "id": "d50eb35e",
   "metadata": {},
   "outputs": [
    {
     "name": "stdout",
     "output_type": "stream",
     "text": [
      "'kay1'\n"
     ]
    }
   ],
   "source": [
    "try:\n",
    "    l={\"A\":\"class\",\"B\":[\"error\",\"tusar\"]}\n",
    "    print(l[\"kay1\"])\n",
    "except KeyError as e:\n",
    "    print(e)"
   ]
  },
  {
   "cell_type": "code",
   "execution_count": null,
   "id": "d7ad0fe1",
   "metadata": {},
   "outputs": [],
   "source": [
    "IndexError: This error is raised when trying to access an item in a sequence (e.g. a list or tuple) using an index that is\n",
    "    out of bounds"
   ]
  },
  {
   "cell_type": "code",
   "execution_count": 9,
   "id": "575cd92f",
   "metadata": {},
   "outputs": [
    {
     "name": "stdout",
     "output_type": "stream",
     "text": [
      "list index out of range\n"
     ]
    }
   ],
   "source": [
    "try:\n",
    "    l=[6,5,7,8,9]\n",
    "    print(l[8])\n",
    "except IndexError as e:\n",
    "    print(e)"
   ]
  },
  {
   "cell_type": "code",
   "execution_count": null,
   "id": "82eb39d4",
   "metadata": {},
   "outputs": [],
   "source": [
    "ans 5->ImportError is a Python exception that is raised when an imported module or a component of a module cannot be found or\n",
    "loaded.ImportError is a generic exception that is raised when an imported module or component cannot be found or loaded.\n",
    "ModuleNotFoundError is a more specific subclass of ImportError that is raised when a module cannot be found."
   ]
  },
  {
   "cell_type": "code",
   "execution_count": null,
   "id": "3041a5ad",
   "metadata": {},
   "outputs": [],
   "source": [
    "ans 6->\n",
    "1.always use a specific exceptio\n",
    "2.try to print a proper and full message which is understadable\n",
    "3.always try to use logging instead of print to log your error\n",
    "4.Always avoid to write a multiple exception\n",
    "5.always clean upp all resources i.e close the file after working on it"
   ]
  },
  {
   "cell_type": "code",
   "execution_count": null,
   "id": "1abf5a45",
   "metadata": {},
   "outputs": [],
   "source": []
  },
  {
   "cell_type": "code",
   "execution_count": null,
   "id": "320de24c",
   "metadata": {},
   "outputs": [],
   "source": []
  }
 ],
 "metadata": {
  "kernelspec": {
   "display_name": "Python 3 (ipykernel)",
   "language": "python",
   "name": "python3"
  },
  "language_info": {
   "codemirror_mode": {
    "name": "ipython",
    "version": 3
   },
   "file_extension": ".py",
   "mimetype": "text/x-python",
   "name": "python",
   "nbconvert_exporter": "python",
   "pygments_lexer": "ipython3",
   "version": "3.9.13"
  }
 },
 "nbformat": 4,
 "nbformat_minor": 5
}
