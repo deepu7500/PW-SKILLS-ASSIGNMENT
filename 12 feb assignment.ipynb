{
 "cells": [
  {
   "cell_type": "markdown",
   "id": "b634e61b",
   "metadata": {},
   "source": [
    "ans 1->\n",
    "An Exception is an error that happens during the execution of a program. Whenever there is an error,\n",
    "Python generates an exception that could be handled. It basically prevents the program from getting crashed.\n",
    "\n",
    " A syntax error is a mistake in the structure OR code of the program that prevents it from running,\n",
    "while an exception is an abnormal event that occurs during the execution of the program and \n",
    "can be handled to allow the program to continue running."
   ]
  },
  {
   "cell_type": "markdown",
   "id": "cf4ed16f",
   "metadata": {},
   "source": [
    "ans 2 ->\n",
    "When an exception is not handled in Python, the program will terminate with an error message. \n",
    "This error message will contain information about the type of exception that occurred, \n",
    "the location where it occurred.\n",
    "\n",
    "Here is an example of what happens when an exception is not handled in Python:"
   ]
  },
  {
   "cell_type": "code",
   "execution_count": 2,
   "id": "12ef424f",
   "metadata": {},
   "outputs": [
    {
     "ename": "ZeroDivisionError",
     "evalue": "division by zero",
     "output_type": "error",
     "traceback": [
      "\u001b[1;31m---------------------------------------------------------------------------\u001b[0m",
      "\u001b[1;31mZeroDivisionError\u001b[0m                         Traceback (most recent call last)",
      "\u001b[1;32m~\\AppData\\Local\\Temp\\ipykernel_17292\\1760473259.py\u001b[0m in \u001b[0;36m<module>\u001b[1;34m\u001b[0m\n\u001b[0;32m      1\u001b[0m \u001b[0ma\u001b[0m \u001b[1;33m=\u001b[0m \u001b[1;36m10\u001b[0m\u001b[1;33m\u001b[0m\u001b[1;33m\u001b[0m\u001b[0m\n\u001b[0;32m      2\u001b[0m \u001b[0mb\u001b[0m \u001b[1;33m=\u001b[0m \u001b[1;36m0\u001b[0m\u001b[1;33m\u001b[0m\u001b[1;33m\u001b[0m\u001b[0m\n\u001b[1;32m----> 3\u001b[1;33m \u001b[0mresult\u001b[0m \u001b[1;33m=\u001b[0m \u001b[0ma\u001b[0m\u001b[1;33m/\u001b[0m\u001b[0mb\u001b[0m\u001b[1;33m\u001b[0m\u001b[1;33m\u001b[0m\u001b[0m\n\u001b[0m",
      "\u001b[1;31mZeroDivisionError\u001b[0m: division by zero"
     ]
    }
   ],
   "source": [
    "a = 10\n",
    "b = 0\n",
    "result = a/b"
   ]
  },
  {
   "cell_type": "markdown",
   "id": "61f3a349",
   "metadata": {},
   "source": [
    "In this example, we are attempting to divide a number by zero. This results in a ZeroDivisionError being raised.\n",
    "Since we have not provided any code to handle this exception, the program terminates with an error message that \n",
    "shows the location of the exception and the type of exception that occurred."
   ]
  },
  {
   "cell_type": "markdown",
   "id": "3429b811",
   "metadata": {},
   "source": [
    "ans 3->\n",
    "In Python, you can use the try and except statements to catch and handle exceptions.\n",
    "The try statement encloses the code that might raise an exception, while the except statement \n",
    "specifies what to do if an exception is raised."
   ]
  },
  {
   "cell_type": "code",
   "execution_count": 5,
   "id": "cc3048ad",
   "metadata": {},
   "outputs": [
    {
     "name": "stdout",
     "output_type": "stream",
     "text": [
      "Error: division by zero\n"
     ]
    }
   ],
   "source": [
    "a = 10\n",
    "b = 0\n",
    "\n",
    "try:\n",
    "    result = a/b\n",
    "except ZeroDivisionError:\n",
    "    print(\"Error: division by zero\")\n",
    "else:\n",
    "    print(\"Result is:\", result)\n"
   ]
  },
  {
   "cell_type": "markdown",
   "id": "f4cd688e",
   "metadata": {},
   "source": [
    "In this example, we are attempting to divide a number by zero, which results in a ZeroDivisionError being raised. \n",
    "We use a try statement to enclose the division operation, and an except statement to catch\n",
    "the ZeroDivisionError exception. In the except block, we print an error message.\n",
    "\n",
    "If no exception is raised, the else block is executed, where we print the result. However, \n",
    "in this example, the except block is executed because an exception is raised, and the program prints an error message."
   ]
  },
  {
   "cell_type": "markdown",
   "id": "ad20b87a",
   "metadata": {},
   "source": [
    "ans 4->In Python, you can use try, except, else, finally, and raise statements together to handle exceptions \n",
    "and provide a more robust error-handling mechanism in your code.\n"
   ]
  },
  {
   "cell_type": "code",
   "execution_count": 8,
   "id": "a18ea129",
   "metadata": {},
   "outputs": [
    {
     "name": "stdout",
     "output_type": "stream",
     "text": [
      "Error: division by zero\n",
      "Division operation completed.\n",
      "Invalid input: division by zero\n"
     ]
    }
   ],
   "source": [
    "def divide_numbers(num1, num2):\n",
    "    try:\n",
    "        result = num1 / num2\n",
    "    except ZeroDivisionError:\n",
    "        print(\"Error: division by zero\")\n",
    "        return None\n",
    "    else:\n",
    "        print(\"Result is:\", result)\n",
    "        return result\n",
    "    finally:\n",
    "        print(\"Division operation completed.\")\n",
    "\n",
    "numerator = 10\n",
    "denominator = 0\n",
    "\n",
    "try:\n",
    "    result = divide_numbers(numerator, denominator)\n",
    "    if result is None:\n",
    "        raise ValueError(\"Invalid input: division by zero\")\n",
    "except ValueError as ve:\n",
    "    print(str(ve))\n",
    "else:\n",
    "    print(\"Division successful\")\n"
   ]
  },
  {
   "cell_type": "markdown",
   "id": "405ef2aa",
   "metadata": {},
   "source": [
    "    \n",
    "In this example,\n",
    "a)we define a function divide_numbers that attempts to divide two numbers and returns the result.\n",
    "We use a try statement to enclose the division operation and an except statement to catch the ZeroDivisionError exception \n",
    "if it is raised. In the except block, we print an error message and return None.\n",
    "\n",
    "b)If no exception is raised, the else block is executed, where we print the result and return it.\n",
    "The finally block is executed after the try and except blocks, regardless of whether an exception is raised or not.\n",
    "\n",
    "c)Python raise Keyword is used to raise exceptions or errors. The raise keyword raises an error and \n",
    "stops the control flow of the program.\n",
    "\n",
    "In the main code block, we use another try statement to enclose a call to divide_numbers.\n",
    "If the result is None, we raise a ValueError with a custom error message. In the except block, \n",
    "we catch the ValueError exception and print the error message. If no exception is raised, the else block is executed,\n",
    "where we print a success message.\n",
    "\n",
    "In summary, the try, except, else, finally, and raise statements can be used together to create a more robust\n",
    "error-handling mechanism in your Python code. They allow you to catch and handle exceptions, execute code regardless\n",
    "of whether an exception is raised or not, and raise custom exceptions when necessary.\n"
   ]
  },
  {
   "cell_type": "markdown",
   "id": "f4eb3659",
   "metadata": {},
   "source": [
    "ans 5-> In Python, custom exceptions are user-defined exceptions that can be created by a programmer to handle \n",
    "specific errors or exceptional cases that may arise during program execution. Custom exceptions can be\n",
    "created by inheriting from the built-in Exception class or any of its subclasses.\n",
    "We need custom exceptions in Python to make our code more readable, maintainable, and reliable"
   ]
  },
  {
   "cell_type": "code",
   "execution_count": 10,
   "id": "3c2f9b22",
   "metadata": {},
   "outputs": [],
   "source": [
    "class error(Exception):\n",
    "    pass\n",
    "\n",
    "class dobException(error):\n",
    "    pass"
   ]
  },
  {
   "cell_type": "code",
   "execution_count": 11,
   "id": "46a662f8",
   "metadata": {},
   "outputs": [
    {
     "name": "stdout",
     "output_type": "stream",
     "text": [
      "enter your year of birth1991\n"
     ]
    }
   ],
   "source": [
    "year=int(input(\"enter your year of birth\"))\n",
    "age=2021-year\n",
    "try:\n",
    "    if age<=30 & age> 20:\n",
    "        pass\n",
    "    else:\n",
    "        raise dobException\n",
    "except dobException:\n",
    "        print(\"the year age is not valid\")"
   ]
  },
  {
   "cell_type": "code",
   "execution_count": 12,
   "id": "996df05a",
   "metadata": {},
   "outputs": [],
   "source": [
    "## ans 6->\n",
    "class shortname(Exception) :\n",
    "    \n",
    "    def __init__(self,msg):\n",
    "        self.msg = msg\n"
   ]
  },
  {
   "cell_type": "code",
   "execution_count": 18,
   "id": "8f41baa9",
   "metadata": {},
   "outputs": [],
   "source": [
    "def shortname(name):\n",
    "        if len(name) <5:\n",
    "            raise shortname(\"name is short\")\n",
    "        elif len(name)>10:\n",
    "            raise shortname(\"name is large\")\n",
    "        else :\n",
    "            print(\"name is correct\")"
   ]
  },
  {
   "cell_type": "code",
   "execution_count": 1,
   "id": "b63d2560",
   "metadata": {},
   "outputs": [
    {
     "name": "stdout",
     "output_type": "stream",
     "text": [
      "enter the namedeeptibhardwaj\n"
     ]
    },
    {
     "ename": "NameError",
     "evalue": "name 'shortname' is not defined",
     "output_type": "error",
     "traceback": [
      "\u001b[1;31m---------------------------------------------------------------------------\u001b[0m",
      "\u001b[1;31mNameError\u001b[0m                                 Traceback (most recent call last)",
      "\u001b[1;32m~\\AppData\\Local\\Temp\\ipykernel_5024\\2985670037.py\u001b[0m in \u001b[0;36m<module>\u001b[1;34m\u001b[0m\n\u001b[0;32m      2\u001b[0m     \u001b[0mname\u001b[0m \u001b[1;33m=\u001b[0m \u001b[0mstr\u001b[0m\u001b[1;33m(\u001b[0m\u001b[0minput\u001b[0m\u001b[1;33m(\u001b[0m\u001b[1;34m\"enter the name\"\u001b[0m\u001b[1;33m)\u001b[0m\u001b[1;33m)\u001b[0m\u001b[1;33m\u001b[0m\u001b[1;33m\u001b[0m\u001b[0m\n\u001b[1;32m----> 3\u001b[1;33m     \u001b[0mshortname\u001b[0m\u001b[1;33m(\u001b[0m\u001b[0mname\u001b[0m\u001b[1;33m)\u001b[0m\u001b[1;33m\u001b[0m\u001b[1;33m\u001b[0m\u001b[0m\n\u001b[0m\u001b[0;32m      4\u001b[0m \u001b[1;32mexcept\u001b[0m \u001b[0mshortname\u001b[0m \u001b[1;32mas\u001b[0m \u001b[0me\u001b[0m\u001b[1;33m:\u001b[0m\u001b[1;33m\u001b[0m\u001b[1;33m\u001b[0m\u001b[0m\n",
      "\u001b[1;31mNameError\u001b[0m: name 'shortname' is not defined",
      "\nDuring handling of the above exception, another exception occurred:\n",
      "\u001b[1;31mNameError\u001b[0m                                 Traceback (most recent call last)",
      "\u001b[1;32m~\\AppData\\Local\\Temp\\ipykernel_5024\\2985670037.py\u001b[0m in \u001b[0;36m<module>\u001b[1;34m\u001b[0m\n\u001b[0;32m      2\u001b[0m     \u001b[0mname\u001b[0m \u001b[1;33m=\u001b[0m \u001b[0mstr\u001b[0m\u001b[1;33m(\u001b[0m\u001b[0minput\u001b[0m\u001b[1;33m(\u001b[0m\u001b[1;34m\"enter the name\"\u001b[0m\u001b[1;33m)\u001b[0m\u001b[1;33m)\u001b[0m\u001b[1;33m\u001b[0m\u001b[1;33m\u001b[0m\u001b[0m\n\u001b[0;32m      3\u001b[0m     \u001b[0mshortname\u001b[0m\u001b[1;33m(\u001b[0m\u001b[0mname\u001b[0m\u001b[1;33m)\u001b[0m\u001b[1;33m\u001b[0m\u001b[1;33m\u001b[0m\u001b[0m\n\u001b[1;32m----> 4\u001b[1;33m \u001b[1;32mexcept\u001b[0m \u001b[0mshortname\u001b[0m \u001b[1;32mas\u001b[0m \u001b[0me\u001b[0m\u001b[1;33m:\u001b[0m\u001b[1;33m\u001b[0m\u001b[1;33m\u001b[0m\u001b[0m\n\u001b[0m\u001b[0;32m      5\u001b[0m     \u001b[0mprint\u001b[0m\u001b[1;33m(\u001b[0m\u001b[0me\u001b[0m\u001b[1;33m)\u001b[0m\u001b[1;33m\u001b[0m\u001b[1;33m\u001b[0m\u001b[0m\n",
      "\u001b[1;31mNameError\u001b[0m: name 'shortname' is not defined"
     ]
    }
   ],
   "source": [
    "try:\n",
    "    name = str(input(\"enter the name\"))\n",
    "    shortname(name)\n",
    "except shortname as e:\n",
    "    print(e)"
   ]
  },
  {
   "cell_type": "code",
   "execution_count": null,
   "id": "eb17c604",
   "metadata": {},
   "outputs": [],
   "source": []
  }
 ],
 "metadata": {
  "kernelspec": {
   "display_name": "Python 3 (ipykernel)",
   "language": "python",
   "name": "python3"
  },
  "language_info": {
   "codemirror_mode": {
    "name": "ipython",
    "version": 3
   },
   "file_extension": ".py",
   "mimetype": "text/x-python",
   "name": "python",
   "nbconvert_exporter": "python",
   "pygments_lexer": "ipython3",
   "version": "3.9.13"
  }
 },
 "nbformat": 4,
 "nbformat_minor": 5
}
