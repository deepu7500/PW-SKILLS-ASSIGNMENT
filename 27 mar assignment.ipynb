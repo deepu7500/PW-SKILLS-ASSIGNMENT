{
 "cells": [
  {
   "cell_type": "markdown",
   "id": "ff2f4e26",
   "metadata": {},
   "source": [
    "# ans 1->\n",
    "R-squared (R²) is a statistical measure that represents the proportion of the variance in the dependent variable (Y)\n",
    "that is explained by the independent variables (X) in a linear regression model.\n",
    "\n",
    " it is calculated using r^2 formula-\n",
    " \n",
    "    R^2=1-SSR/SST\n",
    " \n",
    " The R-squared value represents the proportion of variance in the dependent variable that is explained by \n",
    "    independent variables in a linear regression model. data.\n",
    "    It ranges from 0 to 1, with higher values indicating a better fit of the model to the data."
   ]
  },
  {
   "cell_type": "markdown",
   "id": "85ee659a",
   "metadata": {},
   "source": [
    "# ans 2->\n",
    "The Adjusted R-squared takes into account the number of independent variables used for predicting the target variable.\n",
    "to calculate adjusted r2 we formula-\n",
    "\n",
    "           adjusted r2=1-(1-r2)(n-1)/(n-p-1)\n",
    "    here,p=number of regression\n",
    "    n= number of sample size\n",
    "\n",
    " # difference   \n",
    "*   r2 measures the proportion of the variation in your dependent variable explained by all of your independent variables\n",
    "    in the model.\n",
    "  Adjusted r2 measures the proportion of variation explained by only those independent variables that really help in\n",
    "    explaining the dependent variable.\n",
    "* r2 is always equal to or greater than adjusted r2.\n",
    "* when r2 is close to zero adjusted r2 is -ve.\n"
   ]
  },
  {
   "cell_type": "markdown",
   "id": "68cf4b48",
   "metadata": {},
   "source": [
    "# ans 3->\n",
    "It is appropriate to use Adjusted R-squared when there are multiple variables in the regression model.\n",
    "This would allow us to compare models with differing numbers of independent variables."
   ]
  },
  {
   "cell_type": "markdown",
   "id": "9cb8f280",
   "metadata": {},
   "source": [
    "# ans 4-> rmse\n",
    "RMSE is a measure of the average deviation of the predictions made by the regression model from the actual values. \n",
    "RMSE is calculated by taking the square root of the mean of the squared error or differences between predicted values \n",
    "and actual values.\n",
    "\n",
    "         rmse=sqrt((yi-y')^2)/n\n",
    "                    \n",
    "  It measures the average magnitude of the error in the predicted values, with higher weights given to larger errors.                  \n",
    "\n",
    "# mse\n",
    "mean squared error- MSE is a measure of the average squared differences between predicted values and actual values.\n",
    "we can also use it as a loss functio.it has only one local minima.\n",
    "        \n",
    "        mse=(yi-yi')^2/2\n",
    "\n",
    "It measures the average of the squared errors, giving higher weights to larger errors. \n",
    "               \n",
    "# mae\n",
    "mean absolute  error- MAE is a measure of the average absolute differences between predicted values and actual values\n",
    "     \n",
    "     mae=|yi-y'|/n\n",
    "\n",
    "It represents the average magnitude of the errors in the predicted values, regardless of their direction.               \n",
    "               "
   ]
  },
  {
   "cell_type": "markdown",
   "id": "cda653e6",
   "metadata": {},
   "source": [
    "# ans 5->\n",
    "# mse\n",
    "* advantage\n",
    "1. we can use it as a loss function.\n",
    "2. only one local minima\n",
    "3. equation is differentiable,\n",
    "* disadvantage\n",
    "1. it is not robust to outlier.\n",
    "2. it change its unit.\n",
    "\n",
    "\n",
    "# rmse\n",
    "* advantages\n",
    "1. it is a differential function so that it can calculate at any point.\n",
    "2. it cannnot change unit.\n",
    "* disadvantage\n",
    "1. they are not robust to  outliers.\n",
    "2. it is not as interpretable.\n",
    "\n",
    "# mae\n",
    "* advantage\n",
    "1. it also not change unit.\n",
    "2. it is robust to outliers.\n",
    "* disadvantage\n",
    "1.it use modules function graph which is not differentiable at 0.\n"
   ]
  },
  {
   "cell_type": "markdown",
   "id": "9ede116d",
   "metadata": {},
   "source": [
    "# ans 6->\n",
    "Lasso (Least Absolute Shrinkage and Selection Operator) regularization is a technique used in\n",
    "linear regression to prevent overfitting by adding a penalty term to the cost function.\n",
    "\n",
    "Lasso regularization differs from Ridge regularization in the penalty term that is added to\n",
    "the cost function. In Ridge regularization, the penalty term is proportional to the square of\n",
    "the coefficients, while in Lasso regularization, it is proportional to the absolute value of the coefficients.\n",
    "\n",
    " Lasso regularization may not be appropriate when the dataset contains highly correlated features."
   ]
  },
  {
   "cell_type": "markdown",
   "id": "b2d77ff4",
   "metadata": {},
   "source": [
    "# ans 7->\n",
    "Regularized linear models are a class of linear regression models that add a penalty term to the cost function \n",
    "in order to prevent overfitting. Overfitting occurs when the model fits the training data too closely, leading to\n",
    "poor generalization performance on new, unseen data.\n",
    "\n",
    "example to illustrate how regularized linear models can help prevent overfitting Suppose we have a dataset of housing prices\n",
    "with 1000 features, but we suspect that only a few of these features are actually important for predicting the price of a house\n",
    "we can use a regularized linear model.\n"
   ]
  },
  {
   "cell_type": "markdown",
   "id": "a9f5167d",
   "metadata": {},
   "source": [
    "# ans 8->\n",
    "Regularized linear models, such as Lasso and Ridge regression, are popular techniques for regression analysis because \n",
    "they can improve the model's performance by reducing overfitting and improving generalization. \n",
    "\n",
    "Regularization leads to dimensionality reduction, which means the machine learning model is built using a lower dimensional\n",
    "dataset. This generally leads to a high bias errror. If regularization is performed before training the model,\n",
    "a perfect balance between bias-variance tradeoff must be used.\n",
    "\n",
    " The choice of model ultimately depends on the nature of the data and the research question, and it may be necessary to\n",
    "try different models to determine the best fit for a particular problem."
   ]
  },
  {
   "cell_type": "markdown",
   "id": "8f3afaa7",
   "metadata": {},
   "source": [
    "# ans 9->\n",
    "model b has a MAE 8 perform better because it has low value so that the data is more accurate.\n",
    "\n",
    "Both metrics have their own limitations-\n",
    "The RMSE is sensitive to outliers, meaning that a few extreme values can significantly inflate the metric. \n",
    "the MAE is less sensitive to outliers and provides a more straightforward interpretation of \n",
    "the model performance.\n",
    "\n",
    "RMSE penalizes larger errors more heavily than smaller errors, which may not always be desirable in certain scenarios.\n",
    "MAE doesn't take into account the direction of the error, and it treats all errors equally regardless of their magnitude.   "
   ]
  },
  {
   "cell_type": "code",
   "execution_count": null,
   "id": "c1b1165b",
   "metadata": {},
   "outputs": [],
   "source": [
    "# ans 10->\n",
    "Both Ridge and Lasso regularization are commonly used to prevent overfitting in linear regression models,\n",
    "but they have different properties that may be more or less appropriate depending on the specifics of the problem.\n"
   ]
  }
 ],
 "metadata": {
  "kernelspec": {
   "display_name": "Python 3 (ipykernel)",
   "language": "python",
   "name": "python3"
  },
  "language_info": {
   "codemirror_mode": {
    "name": "ipython",
    "version": 3
   },
   "file_extension": ".py",
   "mimetype": "text/x-python",
   "name": "python",
   "nbconvert_exporter": "python",
   "pygments_lexer": "ipython3",
   "version": "3.9.13"
  }
 },
 "nbformat": 4,
 "nbformat_minor": 5
}
